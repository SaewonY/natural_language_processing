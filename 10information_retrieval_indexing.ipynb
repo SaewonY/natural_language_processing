{
 "cells": [
  {
   "cell_type": "markdown",
   "metadata": {},
   "source": [
    "1. Indexer\n",
    "    - Crawler (Focused) => Repository(Collection)\n",
    "    - Documnet Analyzer => HTML, Tokenizing, Normalizing\n",
    "                           Stemming(BPE), N-gram, MA, POS\n",
    "                           Stopwords, RE, Phrases\n",
    "                        => Preprocessing\n",
    "    \n",
    "    - Features => Lexicon (1)\n",
    "    - Document(Query) Representation => BoW\n",
    "    - Document-Term Mat., Term-Document Mat.(핵심)\n",
    "        => Inverted Document Indexing (역문헌구조)\n",
    "        \n",
    "<br>    \n",
    "    \n",
    "2. Relevance(Ranking)\n",
    "\n",
    "    크게 통계 / 확률 방법으로 나뉜다 \n",
    "    <br>\n",
    "    우리는 통계 방법론중 하나인 빈도를 기준으로 할 예정\n",
    "    <br>\n",
    "    - weighting(TF-IDF), Similarity(Euclidian, Cosine:0-1)\n",
    "    - Sorting (코사인은 0-1 사이기 때문에 크면 클수록 좋다)\n",
    "    \n",
    "<br>\n",
    "    \n",
    "3. Results\n",
    "    - 끝 (Top K)"
   ]
  },
  {
   "cell_type": "markdown",
   "metadata": {},
   "source": [
    "## Lexicon"
   ]
  },
  {
   "cell_type": "code",
   "execution_count": 1,
   "metadata": {},
   "outputs": [],
   "source": [
    "from konlpy.corpus import kobill\n",
    "\n",
    "def getLexicon1():\n",
    "    lexicon = list()\n",
    "\n",
    "    for doc in [kobill.open(idx).read() for idx in kobill.fileids()]:\n",
    "        for term in doc.split():\n",
    "            if term not in lexicon:\n",
    "                lexicon.append(term)\n",
    "    return lexicon\n",
    "\n",
    "\n",
    "def getLexicon2(): # set을 이용한 방법\n",
    "    lexicon = list()\n",
    "\n",
    "    for doc in [kobill.open(idx).read() for idx in kobill.fileids()]:\n",
    "        for term in doc.split():\n",
    "                lexicon.append(term)\n",
    "    return list(set(lexicon))\n",
    "            \n",
    "    \n",
    "lexicon = getLexicon2() # 아래 timeit으로 재보면 set으로 만든게 더 빠르다\n",
    "            "
   ]
  },
  {
   "cell_type": "code",
   "execution_count": 2,
   "metadata": {},
   "outputs": [
    {
     "name": "stdout",
     "output_type": "stream",
     "text": [
      "130 ms ± 5.92 ms per loop (mean ± std. dev. of 7 runs, 10 loops each)\n"
     ]
    }
   ],
   "source": [
    "%timeit getLexicon1()"
   ]
  },
  {
   "cell_type": "code",
   "execution_count": 3,
   "metadata": {},
   "outputs": [
    {
     "name": "stdout",
     "output_type": "stream",
     "text": [
      "6.81 ms ± 390 µs per loop (mean ± std. dev. of 7 runs, 100 loops each)\n"
     ]
    }
   ],
   "source": [
    "%timeit getLexicon2() # set"
   ]
  },
  {
   "cell_type": "code",
   "execution_count": 4,
   "metadata": {},
   "outputs": [],
   "source": [
    "#       1 2 3 ... 2638 => bag of words\n",
    "    \n",
    "# doc1  1 0 1 ... 1  => list(0 * 2638)   \n",
    "# doc2\n",
    "# ...\n",
    "# doc10\n",
    "\n",
    "    \n",
    "def documentRepresentation1():\n",
    "    \n",
    "    documentList = list()\n",
    "    \n",
    "    for doc in [kobill.open(idx).read() for idx in kobill.fileids()]:\n",
    "        \n",
    "        bow = list(0 for _ in range(len(lexicon))) # 2638개 길이의 list\n",
    "        \n",
    "        for term in doc.split():\n",
    "            bow[lexicon.index(term)] = 1\n",
    "        \n",
    "        documentList.append(bow)\n",
    "    \n",
    "    return documentList"
   ]
  },
  {
   "cell_type": "code",
   "execution_count": 5,
   "metadata": {},
   "outputs": [
    {
     "name": "stdout",
     "output_type": "stream",
     "text": [
      "310 ms ± 29.8 ms per loop (mean ± std. dev. of 7 runs, 1 loop each)\n"
     ]
    }
   ],
   "source": [
    "%timeit documentRepresentation1()"
   ]
  },
  {
   "cell_type": "code",
   "execution_count": 6,
   "metadata": {},
   "outputs": [],
   "source": [
    "def documentRepresentationByDict():    # 공간을 낭비하지 말고 dict type으로 만든다면? 0인 부분이 날라가서 공간이 줄어든다\n",
    "    \n",
    "    documentList = list()\n",
    "    \n",
    "    for doc in [kobill.open(idx).read() for idx in kobill.fileids()]:\n",
    "        \n",
    "        bow = dict()\n",
    "        \n",
    "        for term in doc.split():\n",
    "        \n",
    "            bow[lexicon.index(term)] = 1\n",
    "        \n",
    "        documentList.append(bow)\n",
    "    \n",
    "    return documentList"
   ]
  },
  {
   "cell_type": "code",
   "execution_count": 7,
   "metadata": {},
   "outputs": [
    {
     "name": "stdout",
     "output_type": "stream",
     "text": [
      "299 ms ± 29.5 ms per loop (mean ± std. dev. of 7 runs, 1 loop each)\n"
     ]
    }
   ],
   "source": [
    "%timeit documentRepresentationByDict()"
   ]
  },
  {
   "cell_type": "code",
   "execution_count": 8,
   "metadata": {},
   "outputs": [],
   "source": [
    "def documentRepresentationByDict1():   \n",
    "    \n",
    "    documentList = list()\n",
    "    \n",
    "    for doc in [kobill.open(idx).read() for idx in kobill.fileids()]:\n",
    "        \n",
    "        bow = dict()\n",
    "        \n",
    "        for term in doc.split():\n",
    "        \n",
    "            bow[term] = 1\n",
    "        \n",
    "        documentList.append(bow)\n",
    "    \n",
    "    return documentList"
   ]
  },
  {
   "cell_type": "code",
   "execution_count": 9,
   "metadata": {},
   "outputs": [
    {
     "name": "stdout",
     "output_type": "stream",
     "text": [
      "5.46 ms ± 252 µs per loop (mean ± std. dev. of 7 runs, 100 loops each)\n"
     ]
    }
   ],
   "source": [
    "%timeit documentRepresentationByDict1()"
   ]
  },
  {
   "cell_type": "code",
   "execution_count": 10,
   "metadata": {},
   "outputs": [],
   "source": [
    "# 기존에 key값이 없으면 error가 나기 때문에 else 추가\n",
    "def documentRepresentation2():    \n",
    "    \n",
    "    documentList = list()\n",
    "    \n",
    "    for doc in [kobill.open(idx).read() for idx in kobill.fileids()]:\n",
    "        \n",
    "        bow = dict()\n",
    "        \n",
    "        for term in doc.split():\n",
    "            if term in bow.keys():\n",
    "                bow[term] += 1\n",
    "            else:\n",
    "                bow[term] = 1\n",
    "                                \n",
    "        documentList.append(bow)\n",
    "    \n",
    "    return documentList"
   ]
  },
  {
   "cell_type": "code",
   "execution_count": 11,
   "metadata": {},
   "outputs": [
    {
     "name": "stdout",
     "output_type": "stream",
     "text": [
      "6.41 ms ± 557 µs per loop (mean ± std. dev. of 7 runs, 100 loops each)\n"
     ]
    }
   ],
   "source": [
    "%timeit documentRepresentation2()\n"
   ]
  },
  {
   "cell_type": "code",
   "execution_count": 12,
   "metadata": {},
   "outputs": [],
   "source": [
    "from collections import defaultdict\n",
    "                                \n",
    "def documentRepresentationByDefaultDict():\n",
    "    \n",
    "    documentList = list()\n",
    "    \n",
    "    for doc in [kobill.open(idx).read() for idx in kobill.fileids()]:\n",
    "        \n",
    "        bow = defaultdict(int) # defaultdict는 type을 선언해줘야 한다. \n",
    "                               # dict와는 다르게 기존에 key값이 없어도 error가 나지 않는다\n",
    "        for term in doc.split():\n",
    "            bow[term] += 1\n",
    "                                \n",
    "        documentList.append(bow)\n",
    "    \n",
    "    return documentList"
   ]
  },
  {
   "cell_type": "code",
   "execution_count": 13,
   "metadata": {},
   "outputs": [
    {
     "name": "stdout",
     "output_type": "stream",
     "text": [
      "6.54 ms ± 747 µs per loop (mean ± std. dev. of 7 runs, 100 loops each)\n"
     ]
    }
   ],
   "source": [
    "%timeit documentRepresentationByDefaultDict()"
   ]
  },
  {
   "cell_type": "code",
   "execution_count": 14,
   "metadata": {},
   "outputs": [],
   "source": [
    "# term에 해당하는 key (파일명)까지 저장\n",
    "def documentRepresentationByDefaultDict1():\n",
    "    \n",
    "    documentList = defaultdict(lambda: defaultdict(int))\n",
    "    \n",
    "    for idx in kobill.fileids():\n",
    "        for term in kobill.open(idx).read().split():\n",
    "            documentList[idx][term] += 1\n",
    "#             documentList.keys() => collection\n",
    "#             set(documentList.values().keys()) => lexicon\n",
    "            \n",
    "    return documentList"
   ]
  },
  {
   "cell_type": "code",
   "execution_count": 15,
   "metadata": {},
   "outputs": [
    {
     "name": "stdout",
     "output_type": "stream",
     "text": [
      "6.49 ms ± 413 µs per loop (mean ± std. dev. of 7 runs, 100 loops each)\n"
     ]
    }
   ],
   "source": [
    "%timeit documentRepresentationByDefaultDict1()"
   ]
  },
  {
   "cell_type": "code",
   "execution_count": 16,
   "metadata": {},
   "outputs": [],
   "source": [
    "docList = documentRepresentationByDefaultDict1()"
   ]
  },
  {
   "cell_type": "code",
   "execution_count": 54,
   "metadata": {},
   "outputs": [],
   "source": [
    "### Boolean 검색 => 집합론\n",
    "query = \"국회 의원 국민\"\n",
    "\n",
    "def booleanResult():\n",
    "    result = list()\n",
    "    for term in query.split():\n",
    "        searchResult = list()\n",
    "        \n",
    "        for idx, termList in docList.items():\n",
    "            if term in termList.keys():\n",
    "                searchResult.append(idx)\n",
    "        result.append(searchResult)\n",
    "\n",
    "    one = result.pop() \n",
    "    while result:\n",
    "        temp = result.pop()\n",
    "        one = list(set(one).intersection(temp))\n",
    "    return one"
   ]
  },
  {
   "cell_type": "code",
   "execution_count": 21,
   "metadata": {},
   "outputs": [
    {
     "name": "stdout",
     "output_type": "stream",
     "text": [
      "10.4 µs ± 565 ns per loop (mean ± std. dev. of 7 runs, 100000 loops each)\n"
     ]
    }
   ],
   "source": [
    "%timeit booleanResult()"
   ]
  },
  {
   "cell_type": "code",
   "execution_count": 70,
   "metadata": {},
   "outputs": [],
   "source": [
    "def booleanResult2(): # TDM\n",
    "    TDM = defaultdict(lambda: defaultdict(int))\n",
    "    for idx, termList in docList.items():\n",
    "        for term, freq in termList.items():\n",
    "            TDM[term][idx] = freq\n",
    "    \n",
    "    result = list()\n",
    "    for term in query.split():\n",
    "        result.append(list(TDM[term].keys()))\n",
    "        \n",
    "    one = result.pop() \n",
    "    while result:\n",
    "        temp = result.pop()\n",
    "        one = list(set(one).intersection(temp))\n",
    "    return one"
   ]
  },
  {
   "cell_type": "code",
   "execution_count": 55,
   "metadata": {},
   "outputs": [],
   "source": [
    "TDM = defaultdict(lambda:defaultdict(int))\n",
    "for idx, termList in docList.items():\n",
    "    for term, freq in termList.items():\n",
    "        TDM[term][idx] = freq\n",
    "        \n",
    "def booleanResult1():\n",
    "    result = list()\n",
    "    for term in query.split():\n",
    "        result.append(list(TDM[term].keys()))\n",
    "        \n",
    "    one = result.pop()\n",
    "    while result:\n",
    "        temp = result.pop()\n",
    "        one = list(set(one).intersection(temp))\n",
    "    return one   "
   ]
  },
  {
   "cell_type": "code",
   "execution_count": 56,
   "metadata": {},
   "outputs": [
    {
     "name": "stdout",
     "output_type": "stream",
     "text": [
      "4.02 µs ± 447 ns per loop (mean ± std. dev. of 7 runs, 100000 loops each)\n"
     ]
    }
   ],
   "source": [
    "%timeit booleanResult1() # TDM이 더 빠른걸 확인할 수 있다."
   ]
  }
 ],
 "metadata": {
  "kernelspec": {
   "display_name": "Python 3",
   "language": "python",
   "name": "python3"
  },
  "language_info": {
   "codemirror_mode": {
    "name": "ipython",
    "version": 3
   },
   "file_extension": ".py",
   "mimetype": "text/x-python",
   "name": "python",
   "nbconvert_exporter": "python",
   "pygments_lexer": "ipython3",
   "version": "3.6.5"
  },
  "toc": {
   "base_numbering": 1,
   "nav_menu": {},
   "number_sections": true,
   "sideBar": true,
   "skip_h1_title": false,
   "title_cell": "Table of Contents",
   "title_sidebar": "Contents",
   "toc_cell": false,
   "toc_position": {},
   "toc_section_display": true,
   "toc_window_display": false
  },
  "varInspector": {
   "cols": {
    "lenName": 16,
    "lenType": 16,
    "lenVar": 40
   },
   "kernels_config": {
    "python": {
     "delete_cmd_postfix": "",
     "delete_cmd_prefix": "del ",
     "library": "var_list.py",
     "varRefreshCmd": "print(var_dic_list())"
    },
    "r": {
     "delete_cmd_postfix": ") ",
     "delete_cmd_prefix": "rm(",
     "library": "var_list.r",
     "varRefreshCmd": "cat(var_dic_list()) "
    }
   },
   "types_to_exclude": [
    "module",
    "function",
    "builtin_function_or_method",
    "instance",
    "_Feature"
   ],
   "window_display": false
  }
 },
 "nbformat": 4,
 "nbformat_minor": 2
}
