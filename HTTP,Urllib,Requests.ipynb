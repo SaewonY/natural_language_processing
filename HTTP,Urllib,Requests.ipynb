{
 "cells": [
  {
   "cell_type": "code",
   "execution_count": 58,
   "metadata": {},
   "outputs": [],
   "source": [
    "import urllib\n",
    "import urllib.request"
   ]
  },
  {
   "cell_type": "code",
   "execution_count": 59,
   "metadata": {},
   "outputs": [],
   "source": [
    "def request(url):\n",
    "    http_reponse = urllib.request(url)\n",
    "    byte_data = http_reponse.read()\n",
    "    text_data = byte_data.decode('utf-8')\n",
    "    return text_data"
   ]
  },
  {
   "cell_type": "code",
   "execution_count": 94,
   "metadata": {
    "scrolled": false
   },
   "outputs": [],
   "source": [
    "url = 'https://python.bakyeono.net'\n",
    "webpage = urllib.request.urlopen(url).read().decode('utf-8')\n",
    "# print(webpage)"
   ]
  },
  {
   "cell_type": "markdown",
   "metadata": {},
   "source": [
    "html이 아니라 json 파일로 가져와보자"
   ]
  },
  {
   "cell_type": "code",
   "execution_count": 61,
   "metadata": {
    "scrolled": true
   },
   "outputs": [
    {
     "name": "stdout",
     "output_type": "stream",
     "text": [
      "[\n",
      "    {\n",
      "        \"title\": \"Interstella\",\n",
      "        \"genre\": \"SF\",\n",
      "        \"year\": 2014,\n",
      "        \"starring\": [\"M. McConaughey\", \"A. Hathaway\", \"J. Chastain\"]\n",
      "    },\n",
      "    {\n",
      "        \"title\": \"Braveheart\",\n",
      "        \"genre\": \"Drama\",\n",
      "        \"year\": 1995,\n",
      "        \"starring\": [\"M. Gibson\", \"S. Marceau\", \"P. McGoohan\"]\n",
      "    },\n",
      "    {\n",
      "        \"title\": \"Mary Poppins\",\n",
      "        \"genre\": \"Fantasy\",\n",
      "        \"year\": 1964,\n",
      "        \"starring\": [\"J. Andrews\", \"D. Van Dyke\"]\n",
      "    }\n",
      "]\n",
      "\n"
     ]
    }
   ],
   "source": [
    "url = 'https://python.bakyeono.net/data/movies.json'  # 요청할 주소\n",
    "text_data = urllib.request.urlopen(url).read().decode('utf-8')\n",
    "print(text_data)"
   ]
  },
  {
   "cell_type": "markdown",
   "metadata": {},
   "source": [
    "다음과 같이 json 파일이 python으로 처리하기에 더 편하다"
   ]
  },
  {
   "cell_type": "code",
   "execution_count": 62,
   "metadata": {},
   "outputs": [
    {
     "name": "stdout",
     "output_type": "stream",
     "text": [
      "1964 MARY POPPINS\n",
      "1995 BRAVEHEART\n",
      "2014 INTERSTELLA\n"
     ]
    }
   ],
   "source": [
    "import json\n",
    "movies = json.loads(text_data)\n",
    "sorted_by_year = sorted(movies, key = lambda movie: movie['year'])\n",
    "for movie in sorted_by_year:\n",
    "    print(str(movie['year']) + ' ' +  movie['title'].upper())\n"
   ]
  },
  {
   "cell_type": "code",
   "execution_count": 63,
   "metadata": {},
   "outputs": [
    {
     "name": "stdout",
     "output_type": "stream",
     "text": [
      "Requirement already satisfied: builtwith in c:\\users\\yang saewon\\anaconda3\\lib\\site-packages (1.3.3)\n",
      "Requirement already satisfied: six in c:\\users\\yang saewon\\anaconda3\\lib\\site-packages (from builtwith) (1.11.0)\n"
     ]
    }
   ],
   "source": [
    "# !pip install builtwith"
   ]
  },
  {
   "cell_type": "markdown",
   "metadata": {},
   "source": [
    "# Builtwith"
   ]
  },
  {
   "cell_type": "markdown",
   "metadata": {},
   "source": [
    "## 접근하는 페이지에 대한 간략한 정보를 뽑는데 builtwith를 사용하면 좋다"
   ]
  },
  {
   "cell_type": "code",
   "execution_count": 64,
   "metadata": {},
   "outputs": [],
   "source": [
    "from builtwith import builtwith"
   ]
  },
  {
   "cell_type": "markdown",
   "metadata": {},
   "source": [
    "서버가 어떻게 응답을 하느냐에 따라서 다르다"
   ]
  },
  {
   "cell_type": "code",
   "execution_count": 65,
   "metadata": {},
   "outputs": [
    {
     "data": {
      "text/plain": [
       "{'web-servers': ['Google Web Server']}"
      ]
     },
     "execution_count": 65,
     "metadata": {},
     "output_type": "execute_result"
    }
   ],
   "source": [
    "builtwith(\"http://www.google.com\")"
   ]
  },
  {
   "cell_type": "code",
   "execution_count": 66,
   "metadata": {},
   "outputs": [
    {
     "data": {
      "text/plain": [
       "{'web-servers': ['Nginx'],\n",
       " 'font-scripts': ['Google Font API'],\n",
       " 'ecommerce': ['WooCommerce'],\n",
       " 'cms': ['WordPress'],\n",
       " 'programming-languages': ['PHP'],\n",
       " 'blogs': ['PHP', 'WordPress']}"
      ]
     },
     "execution_count": 66,
     "metadata": {},
     "output_type": "execute_result"
    }
   ],
   "source": [
    "builtwith(\"http://www.wordpress.com\")"
   ]
  },
  {
   "cell_type": "code",
   "execution_count": 67,
   "metadata": {},
   "outputs": [
    {
     "data": {
      "text/plain": [
       "{'cdn': ['CloudFlare'],\n",
       " 'javascript-frameworks': ['Modernizr', 'jQuery'],\n",
       " 'cms': ['WordPress'],\n",
       " 'programming-languages': ['PHP'],\n",
       " 'blogs': ['PHP', 'WordPress']}"
      ]
     },
     "execution_count": 67,
     "metadata": {},
     "output_type": "execute_result"
    }
   ],
   "source": [
    "builtwith(\"http://www.jquery.com\")"
   ]
  },
  {
   "cell_type": "markdown",
   "metadata": {},
   "source": [
    "# Whois"
   ]
  },
  {
   "cell_type": "markdown",
   "metadata": {},
   "source": [
    "소유자를 보고 내가 건드려도 될지 안될지를 판단할 수 있다."
   ]
  },
  {
   "cell_type": "code",
   "execution_count": 68,
   "metadata": {},
   "outputs": [
    {
     "name": "stdout",
     "output_type": "stream",
     "text": [
      "Requirement already satisfied: python-whois in c:\\users\\yang saewon\\anaconda3\\lib\\site-packages (0.7.1)\n",
      "Requirement already satisfied: future in c:\\users\\yang saewon\\anaconda3\\lib\\site-packages (from python-whois) (0.17.1)\n"
     ]
    }
   ],
   "source": [
    "# !pip install python-whois"
   ]
  },
  {
   "cell_type": "code",
   "execution_count": 69,
   "metadata": {},
   "outputs": [],
   "source": [
    "from whois import whois"
   ]
  },
  {
   "cell_type": "code",
   "execution_count": 70,
   "metadata": {
    "scrolled": true
   },
   "outputs": [
    {
     "data": {
      "text/plain": [
       "{'domain_name': ['GOOGLE.COM', 'google.com'],\n",
       " 'registrar': 'MarkMonitor, Inc.',\n",
       " 'whois_server': 'whois.markmonitor.com',\n",
       " 'referral_url': None,\n",
       " 'updated_date': [datetime.datetime(2018, 2, 21, 18, 36, 40),\n",
       "  datetime.datetime(2018, 2, 21, 10, 45, 7)],\n",
       " 'creation_date': [datetime.datetime(1997, 9, 15, 4, 0),\n",
       "  datetime.datetime(1997, 9, 15, 0, 0)],\n",
       " 'expiration_date': [datetime.datetime(2020, 9, 14, 4, 0),\n",
       "  datetime.datetime(2020, 9, 13, 21, 0)],\n",
       " 'name_servers': ['NS1.GOOGLE.COM',\n",
       "  'NS2.GOOGLE.COM',\n",
       "  'NS3.GOOGLE.COM',\n",
       "  'NS4.GOOGLE.COM',\n",
       "  'ns1.google.com',\n",
       "  'ns3.google.com',\n",
       "  'ns2.google.com',\n",
       "  'ns4.google.com'],\n",
       " 'status': ['clientDeleteProhibited https://icann.org/epp#clientDeleteProhibited',\n",
       "  'clientTransferProhibited https://icann.org/epp#clientTransferProhibited',\n",
       "  'clientUpdateProhibited https://icann.org/epp#clientUpdateProhibited',\n",
       "  'serverDeleteProhibited https://icann.org/epp#serverDeleteProhibited',\n",
       "  'serverTransferProhibited https://icann.org/epp#serverTransferProhibited',\n",
       "  'serverUpdateProhibited https://icann.org/epp#serverUpdateProhibited',\n",
       "  'clientUpdateProhibited (https://www.icann.org/epp#clientUpdateProhibited)',\n",
       "  'clientTransferProhibited (https://www.icann.org/epp#clientTransferProhibited)',\n",
       "  'clientDeleteProhibited (https://www.icann.org/epp#clientDeleteProhibited)',\n",
       "  'serverUpdateProhibited (https://www.icann.org/epp#serverUpdateProhibited)',\n",
       "  'serverTransferProhibited (https://www.icann.org/epp#serverTransferProhibited)',\n",
       "  'serverDeleteProhibited (https://www.icann.org/epp#serverDeleteProhibited)'],\n",
       " 'emails': ['abusecomplaints@markmonitor.com', 'whoisrequest@markmonitor.com'],\n",
       " 'dnssec': 'unsigned',\n",
       " 'name': None,\n",
       " 'org': 'Google LLC',\n",
       " 'address': None,\n",
       " 'city': None,\n",
       " 'state': 'CA',\n",
       " 'zipcode': None,\n",
       " 'country': 'US'}"
      ]
     },
     "execution_count": 70,
     "metadata": {},
     "output_type": "execute_result"
    }
   ],
   "source": [
    "whois(\"http://www.google.com\")"
   ]
  },
  {
   "cell_type": "markdown",
   "metadata": {},
   "source": [
    "# URL handling module"
   ]
  },
  {
   "cell_type": "markdown",
   "metadata": {},
   "source": [
    "+ urllib.request - opening and reading URLs\n",
    "+ urllib.error -  contatining the exceptions raised by urllib.requests\n",
    "+ urllib.parse - parsing URLs\n",
    "+ urllib.robotparser - parsing robots.txt files\n",
    "+ urllib.responce -  used internally by the urllib.request module"
   ]
  },
  {
   "cell_type": "markdown",
   "metadata": {},
   "source": [
    "## robotparser"
   ]
  },
  {
   "cell_type": "markdown",
   "metadata": {},
   "source": [
    "이 모듈은 single class를 제공해준다. 특정한 user agent가 URL을 fetch 할 수 있는지 없는지를 robots.txt file을 기반으로 알려준다"
   ]
  },
  {
   "cell_type": "code",
   "execution_count": 71,
   "metadata": {},
   "outputs": [],
   "source": [
    "from urllib import robotparser"
   ]
  },
  {
   "cell_type": "code",
   "execution_count": 72,
   "metadata": {},
   "outputs": [
    {
     "data": {
      "text/plain": [
       "False"
      ]
     },
     "execution_count": 72,
     "metadata": {},
     "output_type": "execute_result"
    }
   ],
   "source": [
    "robot = robotparser.RobotFileParser()\n",
    "robot.set_url(\"https://www.google.com/robots.txt\")\n",
    "robot.read()\n",
    "robot.can_fetch('*', 'https://www.google.com')"
   ]
  },
  {
   "cell_type": "code",
   "execution_count": 73,
   "metadata": {},
   "outputs": [
    {
     "data": {
      "text/plain": [
       "True"
      ]
     },
     "execution_count": 73,
     "metadata": {},
     "output_type": "execute_result"
    }
   ],
   "source": [
    "robot = robotparser.RobotFileParser()\n",
    "robot.set_url(\"https://cafe.naver.com/robots.txt\")\n",
    "robot.read()\n",
    "robot.can_fetch('*', '/MailContent.nhn')\n",
    "robot.can_fetch('*', '/starbucksgossip')\n"
   ]
  },
  {
   "cell_type": "markdown",
   "metadata": {},
   "source": [
    "다만 결과가 정확하지 않을 때가 있다."
   ]
  },
  {
   "cell_type": "code",
   "execution_count": 74,
   "metadata": {},
   "outputs": [
    {
     "data": {
      "text/plain": [
       "True"
      ]
     },
     "execution_count": 74,
     "metadata": {},
     "output_type": "execute_result"
    }
   ],
   "source": [
    "robot = robotparser.RobotFileParser()\n",
    "robot.set_url(\"https://news.naver.com/robots.txt\")\n",
    "robot.read()\n",
    "# robot.can_fetch('*', '/main/imagemontage')  # False 값\n",
    "robot.can_fetch('Yeti', '/main/imagemontage')\n"
   ]
  },
  {
   "cell_type": "markdown",
   "metadata": {},
   "source": [
    "똑같은 경로에 대해서 yeti로 바꾸면 true 값으로 바뀐다. 봇 이름만 바꾸면 얼마든지 접근 가능하다."
   ]
  },
  {
   "cell_type": "markdown",
   "metadata": {},
   "source": [
    "# urllib, request"
   ]
  },
  {
   "cell_type": "markdown",
   "metadata": {},
   "source": [
    "### 둘의 차이점 \n",
    "\n",
    "<br>\n",
    "\n",
    "1. 데이터를 보낼때 requests는 딕셔너리 형태, urllib는 인코딩하여 바이너리 형태로 전송합니다.\n",
    "\n",
    "2. requests는 요청 메소드(get, post)를 명시하지만 urllib는 데이터의 여부에 따라 get과 post 요청을 구분합니다.\n",
    "\n",
    "3. 없는 페이지 요청시 requests는 에러를 띄우지 않지만 urllib는 에러를 띄웁니다."
   ]
  },
  {
   "cell_type": "markdown",
   "metadata": {},
   "source": [
    "http를 통해서 상대방 서버에 request를 날려보자"
   ]
  },
  {
   "cell_type": "code",
   "execution_count": 75,
   "metadata": {},
   "outputs": [],
   "source": [
    "from urllib import request"
   ]
  },
  {
   "cell_type": "code",
   "execution_count": 76,
   "metadata": {},
   "outputs": [],
   "source": [
    "# 파라미터 중 필요한건 url 딱 하나밖에 없다\n",
    "resp = request.urlopen('http://www.google.com')"
   ]
  },
  {
   "cell_type": "code",
   "execution_count": 77,
   "metadata": {},
   "outputs": [
    {
     "data": {
      "text/plain": [
       "'http://www.google.com'"
      ]
     },
     "execution_count": 77,
     "metadata": {},
     "output_type": "execute_result"
    }
   ],
   "source": [
    "resp.geturl()"
   ]
  },
  {
   "cell_type": "code",
   "execution_count": 78,
   "metadata": {},
   "outputs": [
    {
     "data": {
      "text/plain": [
       "200"
      ]
     },
     "execution_count": 78,
     "metadata": {},
     "output_type": "execute_result"
    }
   ],
   "source": [
    "resp.getcode()"
   ]
  },
  {
   "cell_type": "code",
   "execution_count": 79,
   "metadata": {},
   "outputs": [
    {
     "data": {
      "text/plain": [
       "[('Date', 'Wed, 01 May 2019 11:50:48 GMT'),\n",
       " ('Expires', '-1'),\n",
       " ('Cache-Control', 'private, max-age=0'),\n",
       " ('Content-Type', 'text/html; charset=ISO-8859-1'),\n",
       " ('P3P', 'CP=\"This is not a P3P policy! See g.co/p3phelp for more info.\"'),\n",
       " ('Server', 'gws'),\n",
       " ('X-XSS-Protection', '0'),\n",
       " ('X-Frame-Options', 'SAMEORIGIN'),\n",
       " ('Set-Cookie',\n",
       "  '1P_JAR=2019-05-01-11; expires=Fri, 31-May-2019 11:50:48 GMT; path=/; domain=.google.com'),\n",
       " ('Set-Cookie',\n",
       "  'NID=182=hk-7trdimOJUgJ-zUlCwRaq2G_ycIai8P3-4NYkJ5eyUdCsQP-iyczd8Ha486gsCjbKMvyN9jdVGFWwEQpqq3JeHJxwUstjrQbKnAVUjpw4lfKqr9SM7pcogonrSZDjfuGAcS4gg_IUZO1JBfKGVC5NUHSUDKXoEIpxc0ydOqQ8; expires=Thu, 31-Oct-2019 11:50:48 GMT; path=/; domain=.google.com; HttpOnly'),\n",
       " ('Accept-Ranges', 'none'),\n",
       " ('Vary', 'Accept-Encoding'),\n",
       " ('Connection', 'close')]"
      ]
     },
     "execution_count": 79,
     "metadata": {},
     "output_type": "execute_result"
    }
   ],
   "source": [
    "resp.getheaders()"
   ]
  },
  {
   "cell_type": "markdown",
   "metadata": {},
   "source": [
    "주소를 따온다음에 request를 보내보자 검색어 '박보영'\n",
    "하지만 에러가 뜨는게 정상이다. 권한이 없다고 뜬다.\n",
    "그래서 header를 봐야한다. robots.txt를 보면 root에서 search로 시작하는건 disallow로 되어있다.\n"
   ]
  },
  {
   "cell_type": "code",
   "execution_count": 80,
   "metadata": {},
   "outputs": [
    {
     "name": "stdout",
     "output_type": "stream",
     "text": [
      "403\n",
      "Forbidden\n",
      "Content-Type: text/html; charset=UTF-8\n",
      "Date: Wed, 01 May 2019 11:50:50 GMT\n",
      "Server: gws\n",
      "Cache-Control: private\n",
      "X-XSS-Protection: 0\n",
      "X-Frame-Options: SAMEORIGIN\n",
      "Alt-Svc: quic=\":443\"; ma=2592000; v=\"46,44,43,39\"\n",
      "Accept-Ranges: none\n",
      "Vary: Accept-Encoding\n",
      "Connection: close\n",
      "\n",
      "\n"
     ]
    }
   ],
   "source": [
    "# 파라미터 중 필요한건 url 딱 하나밖에 없다\n",
    "from urllib import request, error\n",
    "\n",
    "try:\n",
    "    resp = request.urlopen('https://www.google.com/search?source=hp&ei=jDPIXN-EF4P8wQOt0aH4Cg&q=%EB%B0%95%EB%B3%B4%EC%98%81&btnK=Google+%EA%B2%80%EC%83%89&oq=%EB%B0%95%EB%B3%B4%EC%98%81&gs_l=psy-ab.3..0l10.47979.50178..50304...6.0..0.113.1249.11j2......0....1..gws-wiz.....6..35i39j0i10j0i131.aHkk85Rw7TE')\n",
    "except error.HTTPError as e:\n",
    "    print(e.code)\n",
    "    print(e.reason)\n",
    "    print(e.headers)"
   ]
  },
  {
   "cell_type": "code",
   "execution_count": 81,
   "metadata": {},
   "outputs": [
    {
     "data": {
      "text/plain": [
       "[('Content-Type', 'text/html; charset=UTF-8'),\n",
       " ('Date', 'Wed, 01 May 2019 11:50:50 GMT'),\n",
       " ('Expires', '-1'),\n",
       " ('Cache-Control', 'private, max-age=0'),\n",
       " ('Strict-Transport-Security', 'max-age=31536000'),\n",
       " ('P3P', 'CP=\"This is not a P3P policy! See g.co/p3phelp for more info.\"'),\n",
       " ('Server', 'gws'),\n",
       " ('X-XSS-Protection', '0'),\n",
       " ('X-Frame-Options', 'SAMEORIGIN'),\n",
       " ('Set-Cookie',\n",
       "  '1P_JAR=2019-05-01-11; expires=Fri, 31-May-2019 11:50:50 GMT; path=/; domain=.google.com'),\n",
       " ('Set-Cookie',\n",
       "  'CGIC=; expires=Mon, 28-Oct-2019 11:50:50 GMT; path=/complete/search; domain=.google.com; HttpOnly'),\n",
       " ('Set-Cookie',\n",
       "  'CGIC=; expires=Mon, 28-Oct-2019 11:50:50 GMT; path=/search; domain=.google.com; HttpOnly'),\n",
       " ('Set-Cookie',\n",
       "  'NID=182=dkjg9c_0VRHL_E9lT5rr6eCHNt_uLQLRfNFxZVIve1VqdYlHH2aIwd_5Z2tUBMeNKMilJ3HwhvfRX5q2CRcrKfXr5-WtLryjmkfIX5QZMZL8AkVeD9ZUN-mu7uOm4e8MW-JjqiCczysZGozL7gttR65Db795XnKaYeQD7Qlk00Y; expires=Thu, 31-Oct-2019 11:50:50 GMT; path=/; domain=.google.com; HttpOnly'),\n",
       " ('Alt-Svc', 'quic=\":443\"; ma=2592000; v=\"46,44,43,39\"'),\n",
       " ('Accept-Ranges', 'none'),\n",
       " ('Vary', 'Accept-Encoding'),\n",
       " ('Connection', 'close')]"
      ]
     },
     "execution_count": 81,
     "metadata": {},
     "output_type": "execute_result"
    }
   ],
   "source": [
    "url = 'https://www.google.com/search?ei=vjPIXLq4J5DmwQPElJOoDQ&q=%EB%B0%95%EB%B3%B4%EC%98%81&oq=%EB%B0%95%EB%B3%B4%EC%98%81&gs_l=psy-ab.3..0i67l3j0i131l3j0i67j0j0i131j0.3377.3949..4013...0.0..0.90.354.4......0....1..gws-wiz.nODVn5n3xr8'\n",
    "\n",
    "req = request.Request(url, headers={\"user-agent\":\"Mozilla/5.0 (Windows NT 10.0; Win64; x64) AppleWebKit/537.36 (KHTML, like Gecko) Chrome/73.0.3683.103 Safari/537.36\"},\n",
    "                method=\"GET\")\n",
    "try:\n",
    "    resp = request.urlopen(req)\n",
    "except error.HTTPError as e:\n",
    "    print(e.code)\n",
    "    print(e.reason)\n",
    "    print(e.headers)\n",
    "resp.geturl()\n",
    "resp.getcode()\n",
    "resp.getheaders()"
   ]
  },
  {
   "cell_type": "markdown",
   "metadata": {},
   "source": [
    "get 방식에서는 물음표 뒤가 파라미터이다. 파라미터를 나눌 수 있다.\n",
    "\"https://www.google.com/search?source=hp&ei=jDPIXN-EF4P8wQOt0aH4Cg&q=%EB%B0%95%EB%B3%B4%EC%98%81&btnK=Google+%EA%B2%80%EC%83%89&oq=%EB%B0%95%EB%B3%B4%EC%98%81&gs_l=psy-ab.3..0l10.47979.50178..50304...6.0..0.113.1249.11j2......0....1..gws-wiz.....6..35i39j0i10j0i131.aHkk85Rw7TE\""
   ]
  },
  {
   "cell_type": "code",
   "execution_count": 82,
   "metadata": {},
   "outputs": [],
   "source": [
    "# 200 => OK\n",
    "# 400 => 내 잘못\n",
    "# 500 => 님 잘못 => Traffic 과도하게 증가 X\n",
    "\n",
    "from urllib import parse\n",
    "\n",
    "url = 'https://www.google.com/search'\n",
    "header = {'user-agent': 'Mozilla/5.0 (Windows NT 10.0; Win64; x64) AppleWebKit/537.36 (KHTML, like Gecko) Chrome/73.0.3683.103 Safari/537.36'}\n",
    "\n",
    "# url을 받아서 하는 애\n",
    "def download(url, params={}, pretries=3):\n",
    "    resp = None\n",
    "    \n",
    "    try:\n",
    "        req = request.Request(url + \"?\" + parse.urlencode(params), headers=header)\n",
    "        resp = request.urlopen(req)\n",
    "        \n",
    "    except error.HTTPError as e:\n",
    "        if 500 <= e.code < 600 and retries > 0:\n",
    "            resp = download(url, params, retries-1)\n",
    "        else:\n",
    "            print(e.code)\n",
    "            print(e.reason)\n",
    "            print(e.geturl())\n",
    "            print(e.headers)\n",
    "    \n",
    "    return resp"
   ]
  },
  {
   "cell_type": "code",
   "execution_count": 83,
   "metadata": {},
   "outputs": [],
   "source": [
    "# 한글을 넣으려면 인코딩 해줘야한다\n",
    "params = {'q':'박보영'}\n",
    "# download(url, params).read()"
   ]
  },
  {
   "cell_type": "code",
   "execution_count": 84,
   "metadata": {},
   "outputs": [
    {
     "data": {
      "text/plain": [
       "'q=%EB%B0%95%EB%B3%B4%EC%98%81'"
      ]
     },
     "execution_count": 84,
     "metadata": {},
     "output_type": "execute_result"
    }
   ],
   "source": [
    "# url을 만져주는게 parse\n",
    "params = {'q':'박보영'}\n",
    "parse.urlencode(params)"
   ]
  },
  {
   "cell_type": "code",
   "execution_count": 85,
   "metadata": {},
   "outputs": [
    {
     "data": {
      "text/plain": [
       "'https://www.google.com/urljoin'"
      ]
     },
     "execution_count": 85,
     "metadata": {},
     "output_type": "execute_result"
    }
   ],
   "source": [
    "parse.urlparse(url)\n",
    "parse.urljoin(url,'urljoin')"
   ]
  },
  {
   "cell_type": "code",
   "execution_count": 86,
   "metadata": {},
   "outputs": [
    {
     "data": {
      "text/plain": [
       "['https', 'www.google.com', '/search', '', 'q=%EB%B0%95%EB%B3%B4%EC%98%81', '']"
      ]
     },
     "execution_count": 86,
     "metadata": {},
     "output_type": "execute_result"
    }
   ],
   "source": [
    "# 여기다가 구글에서 했던거 하면 google.com 등 파라미터들이 싹 다 쪼개진다. 6개의 튜플로 쪼개진다\n",
    "result = parse.urlparse('https://www.google.com/search?q=%EB%B0%95%EB%B3%B4%EC%98%81')\n",
    "[_ for _ in result]"
   ]
  },
  {
   "cell_type": "code",
   "execution_count": 87,
   "metadata": {},
   "outputs": [
    {
     "data": {
      "text/plain": [
       "'박보영'"
      ]
     },
     "execution_count": 87,
     "metadata": {},
     "output_type": "execute_result"
    }
   ],
   "source": [
    "parse.unquote('%EB%B0%95%EB%B3%B4%EC%98%81')"
   ]
  },
  {
   "cell_type": "code",
   "execution_count": 88,
   "metadata": {},
   "outputs": [
    {
     "data": {
      "text/plain": [
       "('%EB%B0%95%20%EB%B3%B4%20%EC%98%81', '%EB%B0%95+%EB%B3%B4+%EC%98%81')"
      ]
     },
     "execution_count": 88,
     "metadata": {},
     "output_type": "execute_result"
    }
   ],
   "source": [
    "parse.quote('박 보 영'), parse.quote_plus('박 보 영')"
   ]
  },
  {
   "cell_type": "markdown",
   "metadata": {},
   "source": [
    "## requests 패키지는 하이레벨 인터페이스"
   ]
  },
  {
   "cell_type": "code",
   "execution_count": 91,
   "metadata": {},
   "outputs": [],
   "source": [
    "import requests\n",
    "\n",
    "resp = requests.get('http://www.google.com/search', params={'q':'박보영'})\n",
    "# resp.text"
   ]
  },
  {
   "cell_type": "code",
   "execution_count": 92,
   "metadata": {},
   "outputs": [
    {
     "data": {
      "text/plain": [
       "(200,\n",
       " 'OK',\n",
       " {'Date': 'Wed, 01 May 2019 11:50:51 GMT', 'Expires': '-1', 'Cache-Control': 'private, max-age=0', 'Content-Type': 'text/html; charset=ISO-8859-1', 'P3P': 'CP=\"This is not a P3P policy! See g.co/p3phelp for more info.\"', 'Content-Encoding': 'gzip', 'Server': 'gws', 'X-XSS-Protection': '0', 'X-Frame-Options': 'SAMEORIGIN', 'Transfer-Encoding': 'chunked', 'Set-Cookie': '1P_JAR=2019-05-01-11; expires=Fri, 31-May-2019 11:50:51 GMT; path=/; domain=.google.com, CGIC=IgMqLyo; expires=Mon, 28-Oct-2019 11:50:51 GMT; path=/complete/search; domain=.google.com; HttpOnly, CGIC=IgMqLyo; expires=Mon, 28-Oct-2019 11:50:51 GMT; path=/search; domain=.google.com; HttpOnly, NID=182=sJW-gP4beCuozveOpovlyvZsZFOUV_9AbhHOKWVvRauW7FEtWQ07jKPKMYCXYIwWLLFRATFX4AW_OztIxsVuRp9zzc-yv1jLH1P64B1oUIPWrhobISwF5-l88dSWt-s_NcQjZ8O5-d43k05Y9nWzhdKp8b4gzAQvlrgGCfaZHPU; expires=Thu, 31-Oct-2019 11:50:51 GMT; path=/; domain=.google.com; HttpOnly'})"
      ]
     },
     "execution_count": 92,
     "metadata": {},
     "output_type": "execute_result"
    }
   ],
   "source": [
    "resp.status_code, resp.reason, resp.headers\n"
   ]
  },
  {
   "cell_type": "code",
   "execution_count": 93,
   "metadata": {},
   "outputs": [
    {
     "data": {
      "text/plain": [
       "{'User-Agent': 'python-requests/2.19.1', 'Accept-Encoding': 'gzip, deflate', 'Accept': '*/*', 'Connection': 'keep-alive'}"
      ]
     },
     "execution_count": 93,
     "metadata": {},
     "output_type": "execute_result"
    }
   ],
   "source": [
    "resp.request.headers"
   ]
  }
 ],
 "metadata": {
  "kernelspec": {
   "display_name": "Python 3",
   "language": "python",
   "name": "python3"
  },
  "language_info": {
   "codemirror_mode": {
    "name": "ipython",
    "version": 3
   },
   "file_extension": ".py",
   "mimetype": "text/x-python",
   "name": "python",
   "nbconvert_exporter": "python",
   "pygments_lexer": "ipython3",
   "version": "3.6.5"
  }
 },
 "nbformat": 4,
 "nbformat_minor": 2
}
