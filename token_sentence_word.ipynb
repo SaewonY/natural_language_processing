{
 "cells": [
  {
   "cell_type": "markdown",
   "metadata": {},
   "source": [
    "1. JDK => 1.8 설치\n",
    "2. JPype 설치 (파이썬 버전, 윈도우 비트 확인)\n",
    "3. !pip install JPype 경로/파일명\n",
    "4. !pip install konlpy\n",
    "5. !pip install nltk"
   ]
  },
  {
   "cell_type": "code",
   "execution_count": null,
   "metadata": {},
   "outputs": [],
   "source": [
    "# !pip install --upgrade pip"
   ]
  },
  {
   "cell_type": "code",
   "execution_count": null,
   "metadata": {},
   "outputs": [],
   "source": [
    "# !pip install JPype1-0.6.3-cp37-cp37m-win_amd64.whl"
   ]
  },
  {
   "cell_type": "code",
   "execution_count": null,
   "metadata": {},
   "outputs": [],
   "source": [
    "# !pip install konlpy"
   ]
  },
  {
   "cell_type": "code",
   "execution_count": null,
   "metadata": {},
   "outputs": [],
   "source": [
    "from konlpy.tag import Kkma\n",
    "\n",
    "ma = Kkma()\n",
    "ma.pos('오늘은 불금입니다.')"
   ]
  },
  {
   "cell_type": "markdown",
   "metadata": {},
   "source": [
    "# Corpus, Kolaw"
   ]
  },
  {
   "cell_type": "code",
   "execution_count": 3,
   "metadata": {},
   "outputs": [],
   "source": [
    "from konlpy.corpus import kolaw\n",
    "\n",
    "kolaw.fileids()\n",
    "# kobill.fileids()\n",
    "\n",
    "c = kolaw.open(kolaw.fileids()[0]).read()"
   ]
  },
  {
   "cell_type": "code",
   "execution_count": 6,
   "metadata": {},
   "outputs": [
    {
     "data": {
      "text/plain": [
       "(4178,\n",
       " 356,\n",
       " ['대한민국헌법',\n",
       "  '',\n",
       "  '유구한 역사와 전통에 빛나는 우리 대한국민은 3·1운동으로 건립된 대한민국임시정부의 법통과 불의에 항거한 4·19민주이념을 계승하고, 조국의 민주개혁과 평화적 통일의 사명에 입각하여 정의·인도와 동포애로써 민족의 단결을 공고히 하고, 모든 사회적 폐습과 불의를 타파하며, 자율과 조화를 바탕으로 자유민주적 기본질서를 더욱 확고히 하여 정치·경제·사회·문화의 모든 영역에 있어서 각인의 기회를 균등히 하고, 능력을 최고도로 발휘하게 하며, 자유와 권리에 따르는 책임과 의무를 완수하게 하여, 안으로는 국민생활의 균등한 향상을 기하고 밖으로는 항구적인 세계평화와 인류공영에 이바지함으로써 우리들과 우리들의 자손의 안전과 자유와 행복을 영원히 확보할 것을 다짐하면서 1948년 7월 12일에 제정되고 8차에 걸쳐 개정된 헌법을 이제 국회의 의결을 거쳐 국민투표에 의하여 개정한다.'])"
      ]
     },
     "execution_count": 6,
     "metadata": {},
     "output_type": "execute_result"
    }
   ],
   "source": [
    "# 어절의 수 중복허용\n",
    "len(c.split()), len(c.splitlines()), c.splitlines()[:3]"
   ]
  },
  {
   "cell_type": "markdown",
   "metadata": {},
   "source": [
    "# NLTK"
   ]
  },
  {
   "cell_type": "code",
   "execution_count": null,
   "metadata": {},
   "outputs": [],
   "source": [
    "# !pip install nltk"
   ]
  },
  {
   "cell_type": "code",
   "execution_count": 8,
   "metadata": {},
   "outputs": [
    {
     "name": "stdout",
     "output_type": "stream",
     "text": [
      "[nltk_data] Downloading package brown to C:\\Users\\Yang\n",
      "[nltk_data]     Saewon\\AppData\\Roaming\\nltk_data...\n",
      "[nltk_data]   Package brown is already up-to-date!\n",
      "[nltk_data] Downloading package gutenberg to C:\\Users\\Yang\n",
      "[nltk_data]     Saewon\\AppData\\Roaming\\nltk_data...\n",
      "[nltk_data]   Package gutenberg is already up-to-date!\n"
     ]
    },
    {
     "data": {
      "text/plain": [
       "True"
      ]
     },
     "execution_count": 8,
     "metadata": {},
     "output_type": "execute_result"
    }
   ],
   "source": [
    "import nltk\n",
    "\n",
    "# nltk.download() => GUI\n",
    "nltk.download('brown')\n",
    "nltk.download('gutenberg')"
   ]
  },
  {
   "cell_type": "code",
   "execution_count": 9,
   "metadata": {},
   "outputs": [
    {
     "data": {
      "text/plain": [
       "500"
      ]
     },
     "execution_count": 9,
     "metadata": {},
     "output_type": "execute_result"
    }
   ],
   "source": [
    "from nltk.corpus import brown, gutenberg\n",
    "\n",
    "corpus = brown.open(brown.fileids()[0]).read()\n",
    "len(brown.fileids())"
   ]
  },
  {
   "cell_type": "code",
   "execution_count": 10,
   "metadata": {},
   "outputs": [
    {
     "data": {
      "text/plain": [
       "(20187,\n",
       " 2242,\n",
       " 238,\n",
       " ['',\n",
       "  '',\n",
       "  \"\\tThe/at Fulton/np-tl County/nn-tl Grand/jj-tl Jury/nn-tl said/vbd Friday/nr an/at investigation/nn of/in Atlanta's/np$ recent/jj primary/nn election/nn produced/vbd ``/`` no/at evidence/nn ''/'' that/cs any/dti irregularities/nns took/vbd place/nn ./.\"])"
      ]
     },
     "execution_count": 10,
     "metadata": {},
     "output_type": "execute_result"
    }
   ],
   "source": [
    "len(corpus), len(corpus.split()), len(corpus.splitlines()), corpus.splitlines()[:3]"
   ]
  },
  {
   "cell_type": "code",
   "execution_count": 11,
   "metadata": {},
   "outputs": [
    {
     "data": {
      "text/plain": [
       "18"
      ]
     },
     "execution_count": 11,
     "metadata": {},
     "output_type": "execute_result"
    }
   ],
   "source": [
    "corpus = gutenberg.open(gutenberg.fileids()[0]).read()\n",
    "len(gutenberg.fileids())"
   ]
  },
  {
   "cell_type": "markdown",
   "metadata": {},
   "source": [
    "# 구두점(punctuation)"
   ]
  },
  {
   "cell_type": "code",
   "execution_count": 12,
   "metadata": {},
   "outputs": [
    {
     "name": "stdout",
     "output_type": "stream",
     "text": [
      "[nltk_data] Downloading package punkt to C:\\Users\\Yang\n",
      "[nltk_data]     Saewon\\AppData\\Roaming\\nltk_data...\n",
      "[nltk_data]   Package punkt is already up-to-date!\n"
     ]
    },
    {
     "data": {
      "text/plain": [
       "True"
      ]
     },
     "execution_count": 12,
     "metadata": {},
     "output_type": "execute_result"
    }
   ],
   "source": [
    "nltk.download(\"punkt\") # 토큰으로 쪼개기"
   ]
  },
  {
   "cell_type": "markdown",
   "metadata": {},
   "source": [
    "# sent_tokenize"
   ]
  },
  {
   "cell_type": "code",
   "execution_count": 14,
   "metadata": {},
   "outputs": [],
   "source": [
    "from nltk.tokenize import sent_tokenize\n",
    "\n",
    "sentence = sent_tokenize(corpus)"
   ]
  },
  {
   "cell_type": "code",
   "execution_count": 15,
   "metadata": {},
   "outputs": [
    {
     "data": {
      "text/plain": [
       "(16823, 7493)"
      ]
     },
     "execution_count": 15,
     "metadata": {},
     "output_type": "execute_result"
    }
   ],
   "source": [
    "len(corpus.splitlines()), len(sentence)"
   ]
  },
  {
   "cell_type": "code",
   "execution_count": 16,
   "metadata": {},
   "outputs": [
    {
     "data": {
      "text/plain": [
       "(['[Emma by Jane Austen 1816]\\n\\nVOLUME I\\n\\nCHAPTER I\\n\\n\\nEmma Woodhouse, handsome, clever, and rich, with a comfortable home\\nand happy disposition, seemed to unite some of the best blessings\\nof existence; and had lived nearly twenty-one years in the world\\nwith very little to distress or vex her.',\n",
       "  \"She was the youngest of the two daughters of a most affectionate,\\nindulgent father; and had, in consequence of her sister's marriage,\\nbeen mistress of his house from a very early period.\",\n",
       "  'Her mother\\nhad died too long ago for her to have more than an indistinct\\nremembrance of her caresses; and her place had been supplied\\nby an excellent woman as governess, who had fallen little short\\nof a mother in affection.'],\n",
       " ['[Emma by Jane Austen 1816]', '', 'VOLUME I'])"
      ]
     },
     "execution_count": 16,
     "metadata": {},
     "output_type": "execute_result"
    }
   ],
   "source": [
    "sentence[:3], corpus.splitlines()[:3]"
   ]
  },
  {
   "cell_type": "markdown",
   "metadata": {},
   "source": [
    "# word_tokenize"
   ]
  },
  {
   "cell_type": "code",
   "execution_count": 17,
   "metadata": {},
   "outputs": [],
   "source": [
    "corpus = '''\n",
    "(서울=뉴스1) 이기림 기자 = 성리학을 발전시키고, 후학을 양성한 조선시대 교육기관 '한국의 서원'이 유네스코 세계유산 등재를 눈앞에 두게 됐다. '한국의 서원'은 16세기부터 17세기에 건립된 '소수, 도산, 병산, 옥산, 도동, 남계, 필암, 무성, 돈암' 등 전국 9곳으로 구성된 연속유산으로, 모두 2009년 이전에 국가지정문화재 사적으로 지정됐고 비교적 원형이 잘 보존됐다는 평가를 받는다.\n",
    "\n",
    "오는 6월 열리는 제43차 유네스코 세계유산위원회에서의 최종결정을 앞둔 가운데 세계유산에 등재될 경우 우리 유교 문화의 우수성을 과시하는 것은 물론 지역경제 활성화에도 적잖이 기여할 것으로 관측된다.\n",
    "\n",
    "◇ 8년의 기다림…세계유산 등재될까\n",
    "\n",
    "14일 문화재청에 따르면 '한국의 서원'은 지난 2011년 세계유산 잠정목록에 등재된 이후 8년 만에 세계유산 목록에 등재될 기회를 잡았다.\n",
    "\n",
    "문화재청은 이런 한국 서원들에 대한 가치를 인정받기 위해 지난 2015년 처음 유네스코 세계유산센터에 등재신청을 했다. 그러나 유네스코 자문‧심사기구인 국제기념물유적협의회(ICOMOS, 이하 이코모스)는 한국의 서원이 '탁월한 보편적 가치'(OUV)에 충족하는 잠재적 가치를 갖췄다고는 판단하지만, '반려' 의견을 냈다.\n",
    "\n",
    "여러 곳을 묶어 세계문화유산으로 신청할 경우 각 유산 간에 연결고리가 있어야 하는데, 서원 9곳이 어떻게 연결돼있는지에 관한 근거 설명이 약하다는 지적이었다. 이는 2012년 '한국의 서원 세계유산 등재추진단'이 결성됐을 때부터 제기된 문제이기도 했다. 결국 문화재청은 2016년 등재신청을 자진철회하고 관련단체들과 함께 보완작업에 들어갔다.\n",
    "\n",
    "이코모스의 자문을 통해 OUV 서술을 다시 작성했고, 비교연구의 보완, 연속유산으로서의 논리 강화 등을 거쳤다. 그러면서 Δ동아시아에서 성리학이 가장 발달한 사회였던 조선시대에 각 지역에서 활성화된 서원들이 성리학의 사회적 전파를 이끌었다는 점 Δ서원의 건축이 높은 정형성을 갖췄다는 점을 세계유산 등재에 필요한 OUV로 제시하며 지난해 1월 등재를 재신청했다.\n",
    "\n",
    "심사결과 이코모스는 OUV를 인정했다. 전체유산과 각 구성유산의 진정성과 완전성, 보존관리계획 등도 요건을 갖춘 것으로 봤다. 다만 이코모스는 추가적 이행과제로 등재 이후 9개 서원에 대한 통합 보존 관리방안을 마련할 것을 권고했다.\n",
    "\n",
    "◇ '한국의 서원' 세계유산 등재 시 이점은\n",
    "\n",
    "문화재청에 따르면 한국의 서원들이 세계유산에 등재될 경우 각 보전관리 및 활용홍보 지원을 위한 예산을 지원받을 수 있다. 현재는 각 지방자치단체가 서원을 보존관리하고 있지만 등재 이후에는 관련 예산을 문화재청으로부터 지원받아 더 나은 보전관리가 가능해진다. 또한 교육이나 관광 차원에서도 홍보예산 등을 받아 세계적인 문화유산을 널리 알릴 수 있는 기회가 생긴다.\n",
    "\n",
    "이경동 '한국의 서원' 통합보존관리단 간사는 \"국내에서 유교가 대중적으로는 부정적으로 알려지거나 잘 알려지지 않았다\"며 \"세계유산에 등재될 경우 국내뿐만 아니라 세계로까지 한국의 유교에 대해 잘 알릴 수 있고, 국내 문화브랜드를 한층 높일 수 있다는 가치가 있다\"고 말했다.\n",
    "\n",
    "그러면서 \"각 지방자치단체에서는 서원을 중심으로 관광 및 활용사업을 통해 관련 부가사업을 활성화시킬 수 있다는 장점도 있다\"고 덧붙였다.\n",
    "\n",
    "서원의 세계유산 등재 여부는 오는 6월30일부터 아제르바이잔 바쿠에서 열리는 제43차 유네스코 세계유산위원회에서 최종결정된다. 등재로 최종결정이 날 경우 우리나라는 총 14건의 세계유산을 보유하게 된다.\n",
    "'''\n"
   ]
  },
  {
   "cell_type": "code",
   "execution_count": 18,
   "metadata": {},
   "outputs": [
    {
     "data": {
      "text/plain": [
       "(438, 376)"
      ]
     },
     "execution_count": 18,
     "metadata": {},
     "output_type": "execute_result"
    }
   ],
   "source": [
    "from nltk.tokenize import word_tokenize\n",
    "\n",
    "len(word_tokenize(corpus)), len(corpus.split())"
   ]
  },
  {
   "cell_type": "code",
   "execution_count": 19,
   "metadata": {},
   "outputs": [
    {
     "data": {
      "text/plain": [
       "(['오늘은.', '\"화\"요일입니다.!', ':)'],\n",
       " ['오늘은', '.', '``', '화', \"''\", '요일입니다.', '!', ':', ')'])"
      ]
     },
     "execution_count": 19,
     "metadata": {},
     "output_type": "execute_result"
    }
   ],
   "source": [
    "sent_tokenize('오늘은. \"화\"요일입니다.! :)'), \\\n",
    "word_tokenize('오늘은. \"화\"요일입니다.! :)')"
   ]
  },
  {
   "cell_type": "code",
   "execution_count": 20,
   "metadata": {},
   "outputs": [
    {
     "data": {
      "text/plain": [
       "(['오늘은', '.', '``', '화', \"''\", '요일입니다.', '!', ':', ')'],\n",
       " ['오늘은.', '``', '화', \"''\", '요일입니다.', '!', ':', ')'])"
      ]
     },
     "execution_count": 20,
     "metadata": {},
     "output_type": "execute_result"
    }
   ],
   "source": [
    "word_tokenize('오늘은. \"화\"요일입니다.! :)', preserve_line=False), \\\n",
    "word_tokenize('오늘은. \"화\"요일입니다.! :)', preserve_line=True)"
   ]
  },
  {
   "cell_type": "markdown",
   "metadata": {},
   "source": [
    "# TweetTokenizer: 이모티콘 구분 가능"
   ]
  },
  {
   "cell_type": "code",
   "execution_count": 21,
   "metadata": {},
   "outputs": [
    {
     "data": {
      "text/plain": [
       "['오늘은', '.', '\"', '화', '\"', ':)', '요일입니다', '.', '!', ':)', ':(', 'ㅠㅠ']"
      ]
     },
     "execution_count": 21,
     "metadata": {},
     "output_type": "execute_result"
    }
   ],
   "source": [
    "from nltk.tokenize import TweetTokenizer\n",
    "\n",
    "TweetTokenizer().tokenize('오늘은. \"화\" :)요일입니다.! :) :( ㅠㅠ')"
   ]
  },
  {
   "cell_type": "markdown",
   "metadata": {},
   "source": [
    "# regexp_tokenize : pattern tokenize"
   ]
  },
  {
   "cell_type": "code",
   "execution_count": 25,
   "metadata": {},
   "outputs": [
    {
     "data": {
      "text/plain": [
       "['ICOMOS', 'OUV', 'OUV', 'OUV', 'OUV']"
      ]
     },
     "execution_count": 25,
     "metadata": {},
     "output_type": "execute_result"
    }
   ],
   "source": [
    "from nltk.tokenize import regexp_tokenize\n",
    "\n",
    "pattern = '([A-Za-z]+)'\n",
    "regexp_tokenize(corpus, pattern)"
   ]
  },
  {
   "cell_type": "code",
   "execution_count": 27,
   "metadata": {},
   "outputs": [
    {
     "data": {
      "text/plain": [
       "['오늘은', '화', '요일입니다']"
      ]
     },
     "execution_count": 27,
     "metadata": {},
     "output_type": "execute_result"
    }
   ],
   "source": [
    "pattern = '([가-힣]+)'\n",
    "regexp_tokenize('오늘은. \"화\" :)요일입니다.! :) :( ;( ㅠㅠ', pattern)"
   ]
  },
  {
   "cell_type": "markdown",
   "metadata": {},
   "source": [
    "# Text"
   ]
  },
  {
   "cell_type": "code",
   "execution_count": 29,
   "metadata": {},
   "outputs": [],
   "source": [
    "# 단어:빈도 -> 순위\n",
    "# from collections import Counter\n",
    "from nltk import Text\n",
    "\n",
    "textObj = Text(word_tokenize(corpus))"
   ]
  },
  {
   "cell_type": "code",
   "execution_count": 30,
   "metadata": {},
   "outputs": [
    {
     "data": {
      "text/plain": [
       "FreqDist({'.': 21, ',': 17, '세계유산': 7, \"'한국의\": 6, '각': 6, '유네스코': 5, \"'\": 5, '경우': 5, '수': 5, '등재될': 4, ...})"
      ]
     },
     "execution_count": 30,
     "metadata": {},
     "output_type": "execute_result"
    }
   ],
   "source": [
    "textObj.vocab()"
   ]
  },
  {
   "cell_type": "code",
   "execution_count": 31,
   "metadata": {},
   "outputs": [],
   "source": [
    "import os\n",
    "\n",
    "base = '.\\\\data\\\\'\n",
    "corpus = ''\n",
    "for _ in os.listdir(base):\n",
    "    with open(base + _, encoding='utf-8') as fp:\n",
    "        corpus += fp.read()"
   ]
  },
  {
   "cell_type": "code",
   "execution_count": 34,
   "metadata": {},
   "outputs": [],
   "source": [
    "from matplotlib import rc, font_manager\n",
    "\n",
    "path = 'C:/Windows/Fonts/LG PC.ttf'\n",
    "font = font_manager. FontProperties(fname=path).get_name()\n",
    "rc('font', family=font)"
   ]
  },
  {
   "cell_type": "code",
   "execution_count": 37,
   "metadata": {},
   "outputs": [
    {
     "data": {
      "image/png": "[encoded data removed]",
      "text/plain": [
       "<Figure size 432x288 with 1 Axes>"
      ]
     },
     "metadata": {},
     "output_type": "display_data"
    },
    {
     "data": {
      "text/plain": [
       "(155652, 50875, None)"
      ]
     },
     "execution_count": 37,
     "metadata": {},
     "output_type": "execute_result"
    }
   ],
   "source": [
    "textObj = Text(word_tokenize(corpus))\n",
    "textObj.vocab().most_common()\n",
    "len(textObj), len(set(textObj)), textObj.plot(30)"
   ]
  },
  {
   "cell_type": "code",
   "execution_count": 36,
   "metadata": {},
   "outputs": [
    {
     "data": {
      "image/png": "[encoded data removed]",
      "text/plain": [
       "<Figure size 432x288 with 1 Axes>"
      ]
     },
     "metadata": {},
     "output_type": "display_data"
    },
    {
     "name": "stdout",
     "output_type": "stream",
     "text": [
      "것으로 알려졌다; 트럼프 대통령은; 도널드 트럼프; 日문화청장관 한국은; 한국은 일본에; 것으로 보인다; 문재인 대통령이;\n",
      "길가던 여고생; 정준영 법정서; 오갔어도 괜찮았겠다☞; 빅데이터 주가시세표; 文대통령 대담서; 10에서 25로; 주가시세표\n",
      "바로가기; 괜찮았겠다☞ 정준영; 뉴시스 빅데이터; 페이스북 트위터◇; 70㎝ 어린이; 어린이 수영장서; 바꾼듯☞ 日문화청장관\n"
     ]
    }
   ],
   "source": [
    "textObj.dispersion_plot(['중국','미국'])\n",
    "textObj.collocations()"
   ]
  },
  {
   "cell_type": "code",
   "execution_count": 38,
   "metadata": {},
   "outputs": [],
   "source": [
    "corpus = kolaw.open(kolaw.fileids()[0]).read()\n",
    "kolaw = Text(word_tokenize(corpus))"
   ]
  },
  {
   "cell_type": "code",
   "execution_count": 39,
   "metadata": {},
   "outputs": [
    {
     "name": "stdout",
     "output_type": "stream",
     "text": [
      "때에는\n"
     ]
    }
   ],
   "source": [
    "kolaw.similar('국민은')"
   ]
  },
  {
   "cell_type": "code",
   "execution_count": 40,
   "metadata": {},
   "outputs": [],
   "source": [
    "k = 50 # 10 - 100\n",
    "b = 0.5 # 0.4 - 0.6\n",
    "\n",
    "base = '.\\\\data\\\\'\n",
    "corpus = list()\n",
    "for _ in os.listdir(base):\n",
    "    with open(base + _, encoding='utf-8') as fp:\n",
    "        corpus.append(fp.read())"
   ]
  },
  {
   "cell_type": "code",
   "execution_count": 41,
   "metadata": {},
   "outputs": [
    {
     "data": {
      "text/plain": [
       "[<matplotlib.lines.Line2D at 0x2421f35fac8>]"
      ]
     },
     "execution_count": 41,
     "metadata": {},
     "output_type": "execute_result"
    },
    {
     "data": {
      "image/png": "[encoded data removed]",
      "text/plain": [
       "<Figure size 432x288 with 1 Axes>"
      ]
     },
     "metadata": {},
     "output_type": "display_data"
    }
   ],
   "source": [
    "import matplotlib.pyplot as plt\n",
    "\n",
    "x = list()\n",
    "y = list() \n",
    "_text = ''\n",
    "for _ in corpus:\n",
    "    _text += _\n",
    "    obj = Text(word_tokenize(_text))\n",
    "    x.append(k * len(obj) ** b)\n",
    "    y.append(len(set(obj)))\n",
    "    \n",
    "plt.plot(x, y, 'r-')"
   ]
  }
 ],
 "metadata": {
  "kernelspec": {
   "display_name": "Python 3",
   "language": "python",
   "name": "python3"
  },
  "language_info": {
   "codemirror_mode": {
    "name": "ipython",
    "version": 3
   },
   "file_extension": ".py",
   "mimetype": "text/x-python",
   "name": "python",
   "nbconvert_exporter": "python",
   "pygments_lexer": "ipython3",
   "version": "3.6.5"
  },
  "toc": {
   "base_numbering": 1,
   "nav_menu": {},
   "number_sections": true,
   "sideBar": true,
   "skip_h1_title": false,
   "title_cell": "Table of Contents",
   "title_sidebar": "Contents",
   "toc_cell": false,
   "toc_position": {},
   "toc_section_display": true,
   "toc_window_display": false
  },
  "varInspector": {
   "cols": {
    "lenName": 16,
    "lenType": 16,
    "lenVar": 40
   },
   "kernels_config": {
    "python": {
     "delete_cmd_postfix": "",
     "delete_cmd_prefix": "del ",
     "library": "var_list.py",
     "varRefreshCmd": "print(var_dic_list())"
    },
    "r": {
     "delete_cmd_postfix": ") ",
     "delete_cmd_prefix": "rm(",
     "library": "var_list.r",
     "varRefreshCmd": "cat(var_dic_list()) "
    }
   },
   "types_to_exclude": [
    "module",
    "function",
    "builtin_function_or_method",
    "instance",
    "_Feature"
   ],
   "window_display": false
  }
 },
 "nbformat": 4,
 "nbformat_minor": 2
}
