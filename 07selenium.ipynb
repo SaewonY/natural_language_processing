{
 "cells": [
  {
   "cell_type": "code",
   "execution_count": 1,
   "metadata": {},
   "outputs": [],
   "source": [
    "import requests\n",
    "from bs4 import BeautifulSoup\n",
    "header = {'user-agent': 'Mozilla/5.0 (Windows NT 10.0; Win64; x64) AppleWebKit/537.36 (KHTML, like Gecko) Chrome/74.0.3729.131 Safari/537.36'}"
   ]
  },
  {
   "cell_type": "code",
   "execution_count": 2,
   "metadata": {},
   "outputs": [],
   "source": [
    "def getDownload(url, parmas = None, retries = 3):\n",
    "    resp = None\n",
    "    \n",
    "    try:\n",
    "        resp = requests.get(url, params = param, headers = header)\n",
    "        resp.raise_for_status()\n",
    "        \n",
    "    except requests.exceptions.HTTPError as e:\n",
    "        if 500 <= resp.status_code < 600 and retries > 0:\n",
    "            print('Retries: {0}'.format(retries))\n",
    "            return getDownload(url, param, retries - 1)\n",
    "        else:\n",
    "            print(resp.status_code)\n",
    "            print(resp.reason)\n",
    "            print(resp.request.headers)\n",
    "            \n",
    "    return resp"
   ]
  },
  {
   "cell_type": "code",
   "execution_count": 3,
   "metadata": {},
   "outputs": [
    {
     "data": {
      "text/plain": [
       "{'Server': 'nginx', 'Date': 'Fri, 10 May 2019 07:16:21 GMT', 'Content-Type': 'application/json', 'Transfer-Encoding': 'chunked', 'Connection': 'keep-alive', 'Vary': 'Accept-Encoding', 'X-Powered-By': 'web2py', 'Set-Cookie': 'session_id_places=True; httponly; Path=/', 'Expires': 'Fri, 10 May 2019 07:16:21 GMT', 'Pragma': 'no-cache', 'Cache-Control': 'no-store, no-cache, must-revalidate, post-check=0, pre-check=0', 'Content-Encoding': 'gzip'}"
      ]
     },
     "execution_count": 3,
     "metadata": {},
     "output_type": "execute_result"
    }
   ],
   "source": [
    "url = 'http://example.webscraping.com/places/ajax/search.json'\n",
    "param = {\n",
    "    'search_term':'korea',\n",
    "    'page_size':10,\n",
    "    'page':0\n",
    "} \n",
    "html = getDownload(url,param)\n",
    "html.headers"
   ]
  },
  {
   "cell_type": "code",
   "execution_count": 4,
   "metadata": {},
   "outputs": [
    {
     "name": "stdout",
     "output_type": "stream",
     "text": [
      "<div><a href=\"/places/default/view/North-Korea-165\"><img src=\"/places/static/images/flags/kp.png\" /> North Korea</a></div>\n",
      "['/places/default/view/North-Korea-165']\n"
     ]
    }
   ],
   "source": [
    "for _ in html.json()['records']:\n",
    "    print(_['pretty_link'])\n",
    "    dom = BeautifulSoup(_['pretty_link'], 'lxml')\n",
    "    print([_['href'] for _ in dom.find_all('a')])\n",
    "    \n",
    "    break"
   ]
  },
  {
   "cell_type": "code",
   "execution_count": 49,
   "metadata": {},
   "outputs": [
    {
     "data": {
      "text/plain": [
       "('http://example.webscraping.com/places/default/view/North-Korea-165',\n",
       " 'http://example.webscraping.com/places/static/images/flags/kp.png')"
      ]
     },
     "execution_count": 49,
     "metadata": {},
     "output_type": "execute_result"
    }
   ],
   "source": [
    "import re\n",
    "\n",
    "\n",
    "text = html.json()['records'][0]['pretty_link']\n",
    "group = re.findall(\"<a href=\\\"(.+)\\\"><img src=\\\"(.+)\\\" /> (.+)</a>\",text)\n",
    "requests.compat.urljoin(url, group[0][0]), \\\n",
    "requests.compat.urljoin(url, group[0][1], group[0][2])"
   ]
  },
  {
   "cell_type": "markdown",
   "metadata": {},
   "source": [
    "# Selenium"
   ]
  },
  {
   "cell_type": "code",
   "execution_count": 50,
   "metadata": {},
   "outputs": [],
   "source": [
    "from selenium import webdriver"
   ]
  },
  {
   "cell_type": "code",
   "execution_count": 173,
   "metadata": {},
   "outputs": [],
   "source": [
    "browser = webdriver.Chrome()"
   ]
  },
  {
   "cell_type": "code",
   "execution_count": 53,
   "metadata": {},
   "outputs": [],
   "source": [
    "url = 'http://example.webscraping.com/places/default/search'\n",
    "browser.get(url)"
   ]
  },
  {
   "cell_type": "markdown",
   "metadata": {},
   "source": [
    "## id"
   ]
  },
  {
   "cell_type": "code",
   "execution_count": 57,
   "metadata": {},
   "outputs": [],
   "source": [
    "browser.find_element_by_id('search_term').clear()\n",
    "browser.find_element_by_id('search_term').send_keys('korea')\n",
    "browser.find_element_by_id('search').click()"
   ]
  },
  {
   "cell_type": "markdown",
   "metadata": {},
   "source": [
    "## css_selector"
   ]
  },
  {
   "cell_type": "markdown",
   "metadata": {},
   "source": [
    "+ Selector => Tag, ID  <br>\n",
    "(#아이디), CLASS(.클래스명)\n",
    "+ [name = 'asdf'] <br>\n",
    "+ [name ^= 'asdfasd'] <br>\n",
    "+ [name $= 'asdfasd'] <br>\n",
    "+ div p => find_all(div 찾고, 자손중에 p) <br>\n",
    "+ div > p => find_all(recursive = False) <br>\n",
    "+ div 찾고, 자식 p <br>\n",
    "+ div + p => find(div).find_next_sibling(P) <br>"
   ]
  },
  {
   "cell_type": "code",
   "execution_count": 59,
   "metadata": {},
   "outputs": [],
   "source": [
    "browser.find_element_by_css_selector(\"#search_term\")\n",
    "browser.find_element_by_css_selector(\"#search_term\").send_keys('korea')\n",
    "browser.find_element_by_css_selector(\"#search_term\").click()"
   ]
  },
  {
   "cell_type": "markdown",
   "metadata": {},
   "source": [
    "## x_path"
   ]
  },
  {
   "cell_type": "markdown",
   "metadata": {},
   "source": [
    "+ xpath => xml tree 탐색 <br>\n",
    "+ . => 현재위치 <br>\n",
    "+ // => 자손 <br>\n",
    "+ / => 자식 <br>\n",
    "+ [@어트리뷰트 = \"값\"] <br>\n",
    "+ id = results <br>\n",
    "+ [@id = 'results'] "
   ]
  },
  {
   "cell_type": "code",
   "execution_count": 103,
   "metadata": {},
   "outputs": [],
   "source": [
    "browser.find_element_by_xpath('//input[@id=\"search_term\"]').clear()\n",
    "browser.find_element_by_xpath('//input[@id=\"search_term\"]').send_keys('korea')\n",
    "browser.find_element_by_xpath('//input[@id=\"search\"]').click()"
   ]
  },
  {
   "cell_type": "code",
   "execution_count": 106,
   "metadata": {},
   "outputs": [
    {
     "name": "stdout",
     "output_type": "stream",
     "text": [
      "North Korea\n",
      "http://example.webscraping.com/places/default/view/North-Korea-165\n",
      "South Korea\n",
      "http://example.webscraping.com/places/default/view/South-Korea-211\n"
     ]
    }
   ],
   "source": [
    "for tag in browser.find_elements_by_xpath('//div[@id=\"results\"]//a'):\n",
    "    print(tag.text)\n",
    "    print(tag.get_attribute('href'))"
   ]
  },
  {
   "cell_type": "code",
   "execution_count": 107,
   "metadata": {},
   "outputs": [
    {
     "name": "stdout",
     "output_type": "stream",
     "text": [
      "Overwriting account.json\n"
     ]
    }
   ],
   "source": [
    "%%writefile account.json\n",
    "{\n",
    "    \"id\":\"achrisfy7\",\n",
    "    \"pw\":\"5983176y\"\n",
    "}"
   ]
  },
  {
   "cell_type": "code",
   "execution_count": 109,
   "metadata": {},
   "outputs": [],
   "source": [
    "import json"
   ]
  },
  {
   "cell_type": "code",
   "execution_count": 110,
   "metadata": {},
   "outputs": [],
   "source": [
    "with open('account.json') as f:\n",
    "    account = json.load(f)"
   ]
  },
  {
   "cell_type": "code",
   "execution_count": 111,
   "metadata": {},
   "outputs": [],
   "source": [
    "browser.get('https://nid.naver.com/nidlogin.login')\n"
   ]
  },
  {
   "cell_type": "markdown",
   "metadata": {},
   "source": [
    "## id"
   ]
  },
  {
   "cell_type": "code",
   "execution_count": 112,
   "metadata": {},
   "outputs": [],
   "source": [
    "browser.find_element_by_id('id').clear()\n",
    "browser.find_element_by_id('pw').clear()\n",
    "browser.find_element_by_id('id').send_keys(account['id'])\n",
    "browser.find_element_by_id('pw').send_keys(account['pw'])"
   ]
  },
  {
   "cell_type": "markdown",
   "metadata": {},
   "source": [
    "## css"
   ]
  },
  {
   "cell_type": "code",
   "execution_count": 113,
   "metadata": {},
   "outputs": [],
   "source": [
    "browser.find_element_by_css_selector('#id').clear()\n",
    "browser.find_element_by_css_selector('#pw').clear()\n",
    "browser.find_element_by_css_selector('#id').send_keys(account['id'])\n",
    "browser.find_element_by_css_selector('#pw').send_keys(account['pw'])"
   ]
  },
  {
   "cell_type": "markdown",
   "metadata": {},
   "source": [
    "## xpath"
   ]
  },
  {
   "cell_type": "code",
   "execution_count": 117,
   "metadata": {},
   "outputs": [],
   "source": [
    "browser.find_element_by_xpath('//input[@name=\"id\"]').clear()\n",
    "browser.find_element_by_xpath('//input[@name=\"pw\"]').clear()\n",
    "browser.find_element_by_xpath('//input[@name=\"id\"]').send_keys(account[\"id\"])\n",
    "browser.find_element_by_xpath('//input[@name=\"pw\"]').send_keys(account[\"pw\"])"
   ]
  },
  {
   "cell_type": "code",
   "execution_count": 118,
   "metadata": {},
   "outputs": [],
   "source": [
    "browser.find_element_by_class_name('btn_global').click()\n"
   ]
  },
  {
   "cell_type": "markdown",
   "metadata": {},
   "source": [
    "# 받은메일함"
   ]
  },
  {
   "cell_type": "code",
   "execution_count": 119,
   "metadata": {},
   "outputs": [],
   "source": [
    "browser.get('https://mail.naver.com/')"
   ]
  },
  {
   "cell_type": "code",
   "execution_count": 123,
   "metadata": {},
   "outputs": [
    {
     "name": "stdout",
     "output_type": "stream",
     "text": [
      "(광고) [스타벅스] SSG카드로 스타벅스를 이용하시고, e-Gift 카드 3만원권 혜택을 누리세요!\n",
      "(광고) MIXXO 147종 균일가 14,900원 찬스 +무배\n",
      "(광고)[L.POINT] 5월 포인트 명세서 양세원님의 포인트는?\n",
      "(광고) [티몬 9번째 생일파티] 단 하루 특별한 혜택을 놓치지 마세요!\n",
      "(광고) 에어팟 2세대 화이트 한정수량 99,000원 +무료배송\n",
      "(광고) 딱 하루! 배송비 없는 디지털데이 특가 시작 +쿠폰 이벤트\n",
      "(광고) 동원 소불고기 3팩 외 균일가 9,900원 +무료배송\n",
      "새로운 환경에서 로그인 되었습니다.\n",
      "05월09일 양세원님께 꼭 맞는 채용정보가 도착했어요.\n",
      "2019년 상반기 중앙대학교 캠퍼스리크루팅 일정(Ver.20190510)\n",
      "(광고) 양세원님, 배송비 없는 해외직구 시작합니다!\n",
      "(광고) 가성비 갑! 오뚜기 핫도그 20개 11,900원 +무배+무제한적립\n",
      "(광고) 데일리룩 필수템! 남녀공용 무지 반팔티 1,900원 +무배\n",
      "05월08일 양세원님께 꼭 맞는 채용정보가 도착했어요.\n",
      "(광고) 오늘 단 하루 전 상품 무료배송! +깜짝 쿠폰 이벤트\n"
     ]
    }
   ],
   "source": [
    "for tag in browser.find_elements_by_css_selector('strong.mail_title'):\n",
    "    print(tag.text)"
   ]
  },
  {
   "cell_type": "markdown",
   "metadata": {},
   "source": [
    "# 스팸메일함"
   ]
  },
  {
   "cell_type": "code",
   "execution_count": 124,
   "metadata": {},
   "outputs": [],
   "source": [
    "browser.find_element_by_css_selector('span.item_wrap.bu6').click()"
   ]
  },
  {
   "cell_type": "code",
   "execution_count": 130,
   "metadata": {},
   "outputs": [
    {
     "name": "stdout",
     "output_type": "stream",
     "text": [
      "[무료창업설명회]창업아이템으로 이런 건 어떠세요?\n"
     ]
    }
   ],
   "source": [
    "for tag in browser.find_elements_by_css_selector(\"strong.mail_title\"):\n",
    "    print(tag.text)"
   ]
  },
  {
   "cell_type": "markdown",
   "metadata": {},
   "source": [
    "## Cookies"
   ]
  },
  {
   "cell_type": "code",
   "execution_count": 131,
   "metadata": {},
   "outputs": [
    {
     "data": {
      "text/plain": [
       "[{'domain': '.naver.com',\n",
       "  'httpOnly': False,\n",
       "  'name': 'NID_JKL',\n",
       "  'path': '/',\n",
       "  'secure': True,\n",
       "  'value': 'SP4+nxqEtnnrColxRwRp2/UsX3xwmFQxwBgB2Y5HKKs='},\n",
       " {'domain': '.naver.com',\n",
       "  'expiry': 2524640375.472232,\n",
       "  'httpOnly': False,\n",
       "  'name': 'NNB',\n",
       "  'path': '/',\n",
       "  'secure': False,\n",
       "  'value': 'PXWDQJYKGTKVY'},\n",
       " {'domain': 'mail.naver.com',\n",
       "  'httpOnly': False,\n",
       "  'name': 'NMUSER',\n",
       "  'path': '/',\n",
       "  'secure': False,\n",
       "  'value': 'uQblKqEwaqbsaAUqKxKlM6Fcb40qpNvXaqu9FxbdFqMrFovsFxuZKAnmaqns3xnDKxEs6xRaaZnladUstoRVadUsadUs3ons1rejL9Us6xRVaqnD16lvpB2RKSl5WLl5MBp0bSloWrdnaAvmKARGW430DVdZ7BF0Mre5pzJZDLl5WLl5MBp0bSloWrdnaAvmKAn='},\n",
       " {'domain': '.naver.com',\n",
       "  'httpOnly': False,\n",
       "  'name': 'nid_inf',\n",
       "  'path': '/',\n",
       "  'secure': False,\n",
       "  'value': '1635658415'},\n",
       " {'domain': '.naver.com',\n",
       "  'httpOnly': True,\n",
       "  'name': 'NID_AUT',\n",
       "  'path': '/',\n",
       "  'secure': False,\n",
       "  'value': '4kpshTpZ0grVJZDspP9o/IHt4I7r/hAbCBAVor/z0oCcXhsu4q3IkdA9ubw0IaoR'},\n",
       " {'domain': '.naver.com',\n",
       "  'httpOnly': False,\n",
       "  'name': 'NID_SES',\n",
       "  'path': '/',\n",
       "  'secure': False,\n",
       "  'value': 'AAABfVSRLetZh/84AYw4LrF+40A8bkJDlnlfhUEVHGUqmU/44g5n00WOeZIksQD0dpdMG6wOkW9/5a8Ml3oDSSyZRvarQ/VG3vncDM7ys3mECf+x0nZ8gcQ+PjDeTz1kBZC37Ws2TQai0nkQ3lybz8AqiU6sESpAXSv8K4mwgyJbM0kqySMKgHGDUYFqTHF7fLm5R3/B7xD2AfMKhIJdiN+69YK3iG+45u00qL1qv/owA3gwsueo/ZLEDkp9mHaOIZX6pq6H+b4Kr3/h2CdsE1nLoY0z/E185MA/WgAbXUue1UVvNkHcJVJQPwsWk2QPmxewIJkb+j0TPNAdOsGfHKd+4ESQN4+3xWdYuwKn7s2CZBKOepmOtS+Eeq5mhZH6itcLUhz+PKXERG2v+mjcPTQ8oqc7EK7u9EGxgxkQ/HEYyOJoV0ZlZWyh2pGqw08amI7lYgmrK07o2nyEBcslWWNqPsN1v9CE2XmziHVy4EeHTNuOlpQ9wosU1PPqn2wRmxrdRg=='}]"
      ]
     },
     "execution_count": 131,
     "metadata": {},
     "output_type": "execute_result"
    }
   ],
   "source": [
    "browser.get_cookies()"
   ]
  },
  {
   "cell_type": "code",
   "execution_count": 134,
   "metadata": {},
   "outputs": [],
   "source": [
    "browser.get('https://mail.naver.com')\n",
    "# browser.page_source"
   ]
  },
  {
   "cell_type": "code",
   "execution_count": 135,
   "metadata": {},
   "outputs": [],
   "source": [
    "html = getDownload('https://mail.naver.com')\n",
    "# html.text"
   ]
  },
  {
   "cell_type": "code",
   "execution_count": 132,
   "metadata": {},
   "outputs": [],
   "source": [
    "from requests import Session\n",
    "\n",
    "session = Session()"
   ]
  },
  {
   "cell_type": "code",
   "execution_count": 138,
   "metadata": {},
   "outputs": [
    {
     "name": "stdout",
     "output_type": "stream",
     "text": [
      "{'domain': '.naver.com', 'httpOnly': False, 'name': 'NID_JKL', 'path': '/', 'secure': True, 'value': 'SP4+nxqEtnnrColxRwRp2/UsX3xwmFQxwBgB2Y5HKKs='}\n",
      "\n",
      "{'domain': '.naver.com', 'expiry': 2524640375.472232, 'httpOnly': False, 'name': 'NNB', 'path': '/', 'secure': False, 'value': 'PXWDQJYKGTKVY'}\n",
      "\n",
      "{'domain': 'mail.naver.com', 'httpOnly': False, 'name': 'NMUSER', 'path': '/', 'secure': False, 'value': 'uQblKqEwaqbsaAUqKxKlM6Fcb40qpNvXaqu9FxbdFqMrFovsFxuZKAnmaqns3xnDKxEs6xRaaZnladUstoRVadUsadUs3ons1rejL9Us6xRVaqnD16lvpB2RKSl5WLl5MBp0bSloWrdnaAvmKARGW430DVdZ7BF0Mre5pzJZDLl5WLl5MBp0bSloWrdnaAvmKAn='}\n",
      "\n",
      "{'domain': '.naver.com', 'httpOnly': False, 'name': 'nid_inf', 'path': '/', 'secure': False, 'value': '1635658415'}\n",
      "\n",
      "{'domain': '.naver.com', 'httpOnly': True, 'name': 'NID_AUT', 'path': '/', 'secure': False, 'value': '4kpshTpZ0grVJZDspP9o/IHt4I7r/hAbCBAVor/z0oCcXhsu4q3IkdA9ubw0IaoR'}\n",
      "\n",
      "{'domain': '.naver.com', 'httpOnly': False, 'name': 'NID_SES', 'path': '/', 'secure': False, 'value': 'AAABeTaiLCDuvDW0EVQqDUYOoDmfL7mzkVdrxskdDrv4msk/9mlbr7r1WG/wABhupqC7PhsWyeraThVaDH0Vqv9heXJWfgDesESoDKvfD+9mZedvt1eEbejz9AY1duGDGe/m654u3zTaXl6yrGi+8cyYKyM1f0N48iL3HstJab0SvniBIHonJPVqqha9PLOyDTAZDFMTGJRoPm4dTYNhvmuC5v46l6LkoBGnEVegXlOnNUEFnAMdWUGh1pGCXE+rNWVv+FDckH2ScyeiwWATlOATpcwvFc9GHy16O+UoQUu+E8l+DFyJ0PlT/LaFplP/sCZlPB8qmMlNdtESnJ0sR/nnvymiPKlpnlYVtYvyUz/D3DQS4yNUkMvJiwzWZqQpmBU9Hh3r9Zc7NOKVc0yDAVZSOYbCRrpfl2XLCHhT98cz9oD3szy/Ex656N0XLt6gZGq8Ql+tiQiHZFAUjYnMSbElRoA4qkvg6ckFGHzYfxx533rcRWdDmRL8Aa7exNePVgt8eA=='}\n",
      "\n"
     ]
    }
   ],
   "source": [
    "for cookie in browser.get_cookies():\n",
    "    print(cookie)\n",
    "    print()"
   ]
  },
  {
   "cell_type": "code",
   "execution_count": 141,
   "metadata": {},
   "outputs": [
    {
     "name": "stdout",
     "output_type": "stream",
     "text": [
      "NID_JKL SP4+nxqEtnnrColxRwRp2/UsX3xwmFQxwBgB2Y5HKKs=\n",
      "NNB PXWDQJYKGTKVY\n",
      "NMUSER uQblKqEwaqbsaAUqKxKlM6Fcb40qpNvXaqu9FxbdFqMrFovsFxuZKAnmaqns3xnDKxEs6xRaaZnladUstoRVadUsadUs3ons1rejL9Us6xRVaqnD16lvpB2RKSl5WLl5MBp0bSloWrdnaAvmKARGW430DVdZ7BF0Mre5pzJZDLl5WLl5MBp0bSloWrdnaAvmKAn=\n",
      "nid_inf 1635658415\n",
      "NID_AUT 4kpshTpZ0grVJZDspP9o/IHt4I7r/hAbCBAVor/z0oCcXhsu4q3IkdA9ubw0IaoR\n",
      "NID_SES AAABeTaiLCDuvDW0EVQqDUYOoDmfL7mzkVdrxskdDrv4msk/9mlbr7r1WG/wABhupqC7PhsWyeraThVaDH0Vqv9heXJWfgDesESoDKvfD+9mZedvt1eEbejz9AY1duGDGe/m654u3zTaXl6yrGi+8cyYKyM1f0N48iL3HstJab0SvniBIHonJPVqqha9PLOyDTAZDFMTGJRoPm4dTYNhvmuC5v46l6LkoBGnEVegXlOnNUEFnAMdWUGh1pGCXE+rNWVv+FDckH2ScyeiwWATlOATpcwvFc9GHy16O+UoQUu+E8l+DFyJ0PlT/LaFplP/sCZlPB8qmMlNdtESnJ0sR/nnvymiPKlpnlYVtYvyUz/D3DQS4yNUkMvJiwzWZqQpmBU9Hh3r9Zc7NOKVc0yDAVZSOYbCRrpfl2XLCHhT98cz9oD3szy/Ex656N0XLt6gZGq8Ql+tiQiHZFAUjYnMSbElRoA4qkvg6ckFGHzYfxx533rcRWdDmRL8Aa7exNePVgt8eA==\n"
     ]
    }
   ],
   "source": [
    "for cookie in browser.get_cookies():\n",
    "    print(cookie['name'], cookie['value'])\n",
    "    session.cookies.set(cookie['name'], cookie['value'])\n",
    "    "
   ]
  },
  {
   "cell_type": "markdown",
   "metadata": {},
   "source": [
    "# IFrame"
   ]
  },
  {
   "cell_type": "code",
   "execution_count": null,
   "metadata": {},
   "outputs": [],
   "source": [
    "# html = session.get('https://mail.naver.com')\n",
    "# html.text"
   ]
  },
  {
   "cell_type": "code",
   "execution_count": 142,
   "metadata": {},
   "outputs": [],
   "source": [
    "browser.get('https://www.daum.net/')"
   ]
  },
  {
   "cell_type": "code",
   "execution_count": 151,
   "metadata": {},
   "outputs": [],
   "source": [
    "iframe = browser.find_element_by_id('loginForm')\n",
    "browser.switch_to.frame(iframe)\n",
    "# browser.find_element_by_css_selector('.lab_login.lab_id').send_keys()"
   ]
  },
  {
   "cell_type": "code",
   "execution_count": 152,
   "metadata": {},
   "outputs": [],
   "source": [
    "browser.find_element_by_id('id').get_attribute('outerHTML')\n",
    "browser.find_element_by_id('id').send_keys('achrisfy7')\n",
    "browser.find_element_by_id('inputPwd').send_keys('5983176t')\n"
   ]
  },
  {
   "cell_type": "code",
   "execution_count": 153,
   "metadata": {},
   "outputs": [],
   "source": [
    "browser.find_element_by_id('loginSubmit').click()"
   ]
  },
  {
   "cell_type": "markdown",
   "metadata": {},
   "source": [
    "# 새창"
   ]
  },
  {
   "cell_type": "code",
   "execution_count": 154,
   "metadata": {},
   "outputs": [],
   "source": [
    "url = 'https://www.kt.com/'\n",
    "browser.get(url)"
   ]
  },
  {
   "cell_type": "code",
   "execution_count": 155,
   "metadata": {},
   "outputs": [
    {
     "data": {
      "text/plain": [
       "'<a href=\"javascript:floating.login();\" title=\"새창 열림\">로그인</a>'"
      ]
     },
     "execution_count": 155,
     "metadata": {},
     "output_type": "execute_result"
    }
   ],
   "source": [
    "browser.find_element_by_css_selector('.quick > a:first-child').get_attribute('outerHTML')\n"
   ]
  },
  {
   "cell_type": "code",
   "execution_count": 160,
   "metadata": {},
   "outputs": [],
   "source": [
    "browser.find_element_by_css_selector('.quick > a:first-child').click()\n"
   ]
  },
  {
   "cell_type": "code",
   "execution_count": 161,
   "metadata": {},
   "outputs": [
    {
     "data": {
      "text/plain": [
       "['CDwindow-40308B8A5BD36858ED8D6194CFC81AE6',\n",
       " 'CDwindow-CA8BB63BF73E4BA70F709D3E4D01005A']"
      ]
     },
     "execution_count": 161,
     "metadata": {},
     "output_type": "execute_result"
    }
   ],
   "source": [
    "# browser.find_element_by_id('userId') => 새창에서 작업하고 있지 않기 때문에 error\n",
    "browser.window_handles"
   ]
  },
  {
   "cell_type": "code",
   "execution_count": 162,
   "metadata": {},
   "outputs": [],
   "source": [
    "browser.switch_to.window(browser.window_handles[1])"
   ]
  },
  {
   "cell_type": "code",
   "execution_count": 164,
   "metadata": {},
   "outputs": [],
   "source": [
    "browser.find_element_by_id('userId').send_keys('test')\n"
   ]
  },
  {
   "cell_type": "markdown",
   "metadata": {},
   "source": [
    "![12](https://user-images.githubusercontent.com/40786348/57563055-2b67e180-73d4-11e9-83f7-13e7bff882e1.PNG)\n"
   ]
  },
  {
   "cell_type": "code",
   "execution_count": 171,
   "metadata": {},
   "outputs": [],
   "source": [
    "from selenium.common.exceptions import NoSuchElementException\n",
    "from selenium.webdriver.support.ui import WebDriverWait\n",
    "\n",
    "wait = webdriver.support.ui.WebDriverWait(browser, 10, 0.5, NoSuchElementException)"
   ]
  },
  {
   "cell_type": "code",
   "execution_count": null,
   "metadata": {},
   "outputs": [],
   "source": [
    "url = 'http://example.webscraping.com/places/default/search'\n",
    "browser.get(url)\n",
    "\n",
    "browser.find_element_by_id('search_term').clear()\n",
    "browser.find_element_by_xpath('//input[@id=\"search_term\"]').send_keys('korea')\n",
    "browser.find_element_by_id('search').click()\n",
    "\n",
    "wait.until(lambda x:x.find_element_by_xpath('//div[@id=\"results\"]//a'))\n",
    "\n",
    "for _ in browser.find_elements_by_xpath('//div[@id=\"results\"]//a'):\n",
    "    print(_.tag_name)\n",
    "    print(_.text)\n",
    "    print(_.get_attribute('href'))"
   ]
  }
 ],
 "metadata": {
  "kernelspec": {
   "display_name": "Python 3",
   "language": "python",
   "name": "python3"
  },
  "language_info": {
   "codemirror_mode": {
    "name": "ipython",
    "version": 3
   },
   "file_extension": ".py",
   "mimetype": "text/x-python",
   "name": "python",
   "nbconvert_exporter": "python",
   "pygments_lexer": "ipython3",
   "version": "3.6.5"
  }
 },
 "nbformat": 4,
 "nbformat_minor": 2
}
