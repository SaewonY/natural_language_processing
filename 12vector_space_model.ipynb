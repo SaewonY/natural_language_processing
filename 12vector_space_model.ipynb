{
 "cells": [
  {
   "cell_type": "code",
   "execution_count": 33,
   "metadata": {},
   "outputs": [],
   "source": [
    "collection = {\n",
    "    ('Document1', 'This is a a a a a a a sample'),\n",
    "    ('Document2', 'This is another sample'),\n",
    "    ('Document3', 'This is not a sample')\n",
    "}"
   ]
  },
  {
   "cell_type": "code",
   "execution_count": 34,
   "metadata": {},
   "outputs": [],
   "source": [
    "from collections import defaultdict\n",
    "from math import log2\n",
    "from konlpy.corpus import kobill\n",
    "from konlpy.tag import Komoran\n",
    "\n",
    "DTM = defaultdict(lambda:defaultdict(int))  \n",
    "for docName, docContent in collection:\n",
    "    for term in docContent.lower().split():\n",
    "        DTM[docName][term] += 1\n",
    "\n",
    "TDM = defaultdict(lambda:defaultdict(int))\n",
    "for idx, termList in DTM.items():\n",
    "    for term, freq in termList.items():\n",
    "        TDM[term][idx] = freq\n",
    "        \n",
    "TWM = defaultdict(lambda:defaultdict(float))\n",
    "N = len(DTM)\n",
    "for idx, termList in DTM.items():\n",
    "    maxTF = max(termList.values())\n",
    "    for term, freq in termList.items():\n",
    "        TF = freq/maxTF\n",
    "        IDF = log2(N/len(TDM[term]))\n",
    "        TWM[term][idx] = TF*IDF"
   ]
  },
  {
   "cell_type": "code",
   "execution_count": 35,
   "metadata": {},
   "outputs": [
    {
     "data": {
      "text/plain": [
       "defaultdict(<function __main__.<lambda>()>,\n",
       "            {'Document3': defaultdict(int,\n",
       "                         {'this': 1, 'is': 1, 'not': 1, 'a': 1, 'sample': 1}),\n",
       "             'Document1': defaultdict(int,\n",
       "                         {'this': 1, 'is': 1, 'a': 7, 'sample': 1}),\n",
       "             'Document2': defaultdict(int,\n",
       "                         {'this': 1, 'is': 1, 'another': 1, 'sample': 1})})"
      ]
     },
     "execution_count": 35,
     "metadata": {},
     "output_type": "execute_result"
    }
   ],
   "source": [
    "# DTM은 각 문서마다 term을 저장\n",
    "DTM "
   ]
  },
  {
   "cell_type": "code",
   "execution_count": 36,
   "metadata": {},
   "outputs": [
    {
     "data": {
      "text/plain": [
       "defaultdict(<function __main__.<lambda>()>,\n",
       "            {'this': defaultdict(int,\n",
       "                         {'Document3': 1, 'Document1': 1, 'Document2': 1}),\n",
       "             'is': defaultdict(int,\n",
       "                         {'Document3': 1, 'Document1': 1, 'Document2': 1}),\n",
       "             'not': defaultdict(int, {'Document3': 1}),\n",
       "             'a': defaultdict(int, {'Document3': 1, 'Document1': 7}),\n",
       "             'sample': defaultdict(int,\n",
       "                         {'Document3': 1, 'Document1': 1, 'Document2': 1}),\n",
       "             'another': defaultdict(int, {'Document2': 1})})"
      ]
     },
     "execution_count": 36,
     "metadata": {},
     "output_type": "execute_result"
    }
   ],
   "source": [
    "# TDM은 각 용어가 어느 document에 몇개씩 있는지 저장\n",
    "TDM"
   ]
  },
  {
   "cell_type": "code",
   "execution_count": 37,
   "metadata": {},
   "outputs": [
    {
     "data": {
      "text/plain": [
       "defaultdict(<function __main__.<lambda>()>,\n",
       "            {'this': defaultdict(float,\n",
       "                         {'Document3': 0.0,\n",
       "                          'Document1': 0.0,\n",
       "                          'Document2': 0.0}),\n",
       "             'is': defaultdict(float,\n",
       "                         {'Document3': 0.0,\n",
       "                          'Document1': 0.0,\n",
       "                          'Document2': 0.0}),\n",
       "             'not': defaultdict(float, {'Document3': 1.584962500721156}),\n",
       "             'a': defaultdict(float,\n",
       "                         {'Document3': 0.5849625007211562,\n",
       "                          'Document1': 0.5849625007211562}),\n",
       "             'sample': defaultdict(float,\n",
       "                         {'Document3': 0.0,\n",
       "                          'Document1': 0.0,\n",
       "                          'Document2': 0.0}),\n",
       "             'another': defaultdict(float, {'Document2': 1.584962500721156})})"
      ]
     },
     "execution_count": 37,
     "metadata": {},
     "output_type": "execute_result"
    }
   ],
   "source": [
    "# 각 term의 tf-idf 계산하여 저장\n",
    "# tf - 한 document 내에서 그 용어 나오는 횟수 나누기 총 용어 갯수\n",
    "# idf - 특정 용어가 다른 document들에서 얼마나 나오는지 계산 => 다른 document에서 많이 나올수록\n",
    "#       덜 중요한 용어로 생각 ex) the, a, he 등등\n",
    "TWM"
   ]
  },
  {
   "cell_type": "markdown",
   "metadata": {},
   "source": [
    "똑같이 kobill에도 적용해보자"
   ]
  },
  {
   "cell_type": "code",
   "execution_count": 57,
   "metadata": {},
   "outputs": [],
   "source": [
    "from math import sqrt\n",
    "\n",
    "ma = Komoran()\n",
    "\n",
    "\n",
    "# .txt 파일마다 형태소 분석하여 저장\n",
    "DTM = defaultdict(lambda:defaultdict(int))  \n",
    "for idx in kobill.fileids():\n",
    "#     ma.pos() => (형태소, 품사)\n",
    "#     ma.morphs() => 형태소, 형태소, ...\n",
    "#     ma.nouns() => 명사, 명사, ...\n",
    "    for term in kobill.open(idx).read().split():\n",
    "        for token in ma.pos(term):\n",
    "            DTM[idx]['/'.join(token)] += 1\n",
    "            # '형태소/품사'\n",
    "\n",
    "TDM = defaultdict(lambda:defaultdict(int))\n",
    "DVL = defaultdict(float)\n",
    "for idx, termList in DTM.items():\n",
    "    for term, freq in termList.items():\n",
    "        TDM[term][idx] = freq\n",
    "        \n",
    "TWM = defaultdict(lambda:defaultdict(float))\n",
    "N = len(DTM)\n",
    "for idx, termList in DTM.items():\n",
    "    maxTF = max(termList.values())\n",
    "    for term, freq in termList.items():\n",
    "        TF = freq/maxTF\n",
    "        IDF = log2(N/len(TDM[term]))\n",
    "        TWM[term][idx] = TF*IDF\n",
    "        DVL[idx] += TWM[term][idx]**2\n",
    "        \n",
    "for idx, length in DVL.items():\n",
    "    DVL[idx] = sqrt(length)  "
   ]
  },
  {
   "cell_type": "code",
   "execution_count": 78,
   "metadata": {},
   "outputs": [
    {
     "name": "stdout",
     "output_type": "stream",
     "text": [
      "문서이름:1809899.txt / 유사도:0.0509\n",
      "['결혼중개업의 관리에 관한 법률 일부개정법률안\\n\\n(한선교의원 대표발의 )\\n\\n 의 안\\n 번 호\\n\\n9899\\n\\n발의연월일 : 2010.', '11.', '15.']\n",
      "\n",
      "문서이름:1809898.txt / 유사도:0.0215\n",
      "['국군부대의 소말리아 해역 파견연장 동의안\\n\\n의안\\n                                                                  제출연월일 :  2010.', '11.', '15.']\n",
      "\n",
      "문서이름:1809897.txt / 유사도:0.0204\n",
      "['국군부대의 아랍에미리트(UAE)군 교육훈련 지원 등에 \\n관한 파견 동의안\\n\\n의안\\n                                                                  제출연월일 :  2010.', '11.', '15.']\n",
      "\n",
      "문서이름:1809891.txt / 유사도:0.0040\n",
      "['국가공무원법 일부개정법률안\\n\\n(정의화의원 대표발의 )\\n\\n 의 안\\n 번 호\\n\\n9891\\n\\n발의연월일 : 2010.', '11.', '12.']\n",
      "\n",
      "문서이름:1809890.txt / 유사도:0.0040\n",
      "['지방공무원법 일부개정법률안\\n\\n(정의화의원 대표발의 )\\n\\n 의 안\\n 번 호\\n\\n9890\\n\\n발의연월일 : 2010.', '11.', '12.']\n",
      "\n"
     ]
    }
   ],
   "source": [
    "from nltk.tokenize import sent_tokenize\n",
    "\n",
    "query = '국방의 의무와 보편적 의무에 대한 의무를 찾아주세요.'\n",
    "\n",
    "TQM = defaultdict(int)\n",
    "QWM = defaultdict(float)\n",
    "\n",
    "for term in query.split():\n",
    "    for token in ma.pos(term):\n",
    "        TQM['/'.join(token)] += 1\n",
    "        \n",
    "alpha = 0.5\n",
    "maxTF = max(TQM.values())\n",
    "for term, ferq in TQM.items():\n",
    "    TF = alpha + (1-alpha)*(freq/maxTF)\n",
    "    DF = len(TWM[term]) if len(TWM[term]) > 0 else 1\n",
    "    IDF = log2(N/DF)\n",
    "    QWM[term] = TF*IDF\n",
    "    \n",
    "candidateList = defaultdict(float)\n",
    "for term, weight1 in QWM.items():\n",
    "    for doc, weight2 in TWM[term].items():\n",
    "        innerProduct = weight1 * weight2\n",
    "        candidateList[doc] += innerProduct\n",
    "        \n",
    "for doc, sim in candidateList.items():\n",
    "    candidateList[doc] = sim/DVL[doc]\n",
    "    \n",
    "K = 5\n",
    "for doc, sim in sorted(candidateList.items(), key=lambda x:x[1], reverse=True)[:K]:\n",
    "    print('문서이름:{0} / 유사도:{1:.4f}'.format(doc, sim))\n",
    "    print(sent_tokenize(kobill.open(doc).read())[:3])\n",
    "    print()"
   ]
  },
  {
   "cell_type": "code",
   "execution_count": 80,
   "metadata": {},
   "outputs": [
    {
     "name": "stdout",
     "output_type": "stream",
     "text": [
      "1809890.txt 841 484 1947\n",
      "1809891.txt 834 480 1941\n",
      "1809892.txt 984 516 2250\n",
      "1809893.txt 840 490 1942\n",
      "1809894.txt 242 206 520\n",
      "1809895.txt 394 272 889\n",
      "1809896.txt 1939 624 4217\n",
      "1809897.txt 788 409 1430\n",
      "1809898.txt 821 405 1466\n",
      "1809899.txt 1677 532 3899\n"
     ]
    },
    {
     "data": {
      "text/plain": [
       "defaultdict(float,\n",
       "            {'1809890.txt': 1.5776888903870359,\n",
       "             '1809891.txt': 1.5764702195076241,\n",
       "             '1809892.txt': 1.4514868834631391,\n",
       "             '1809893.txt': 1.658477051331954,\n",
       "             '1809897.txt': 3.34281895173356,\n",
       "             '1809898.txt': 2.9672702012942676,\n",
       "             '1809894.txt': 3.60118175906683,\n",
       "             '1809895.txt': 2.6022726333121886,\n",
       "             '1809896.txt': 2.0707650112128686,\n",
       "             '1809899.txt': 3.0026304064289966})"
      ]
     },
     "execution_count": 80,
     "metadata": {},
     "output_type": "execute_result"
    }
   ],
   "source": [
    "candidateList = defaultdict(float)\n",
    "for term, docList in TWM.items():\n",
    "    for doc, weight1 in docList.items():\n",
    "        weight2 = QWM[term]\n",
    "        candidateList[doc] += (weight1 - weight2)**2\n",
    "        \n",
    "for doc, sim in candidateList.items():\n",
    "    candidateList[doc] = sqrt(sim)\n",
    "\n",
    "for doc in DTM:\n",
    "    print(doc, len(kobill.open(doc).read().split()), len(DTM[doc]), sum(DTM[doc].values()))\n",
    "candidateList"
   ]
  },
  {
   "cell_type": "code",
   "execution_count": 83,
   "metadata": {},
   "outputs": [
    {
     "name": "stdout",
     "output_type": "stream",
     "text": [
      "문서이름:1809892.txt / 거리:1.4515\n",
      "['교육공무원법 일부개정법률안\\n\\n(정의화의원 대표발의 )\\n\\n 의 안\\n 번 호\\n\\n9892\\n\\n발의연월일 : 2010.', '11.', '12.']\n",
      "\n",
      "문서이름:1809891.txt / 거리:1.5765\n",
      "['국가공무원법 일부개정법률안\\n\\n(정의화의원 대표발의 )\\n\\n 의 안\\n 번 호\\n\\n9891\\n\\n발의연월일 : 2010.', '11.', '12.']\n",
      "\n",
      "문서이름:1809890.txt / 거리:1.5777\n",
      "['지방공무원법 일부개정법률안\\n\\n(정의화의원 대표발의 )\\n\\n 의 안\\n 번 호\\n\\n9890\\n\\n발의연월일 : 2010.', '11.', '12.']\n",
      "\n",
      "문서이름:1809893.txt / 거리:1.6585\n",
      "['남녀고용평등과 일 ·가정 양립 지원에 관한 법률 \\n\\n일부개정법률안\\n\\n(정의화의원 대표발의 )\\n\\n 의 안\\n 번 호\\n\\n9893\\n\\n발의연월일 : 2010.', '11.', '12.']\n",
      "\n",
      "문서이름:1809896.txt / 거리:2.0708\n",
      "['행정절차법 일부개정법률안\\n\\n(유선호의원 대표발의 )\\n\\n 의 안\\n 번 호\\n\\n9896\\n\\n발의연월일 : 2010.', '11.', '15.']\n",
      "\n"
     ]
    }
   ],
   "source": [
    "from nltk.tokenize import sent_tokenize\n",
    "\n",
    "K = 5\n",
    "for doc, sim in sorted(candidateList.items(), key=lambda x:x[1])[:K]:\n",
    "    print(\"문서이름:{0} / 거리:{1:.4f}\".format(doc, sim))\n",
    "    print(sent_tokenize(kobill.open(doc).read())[:3])\n",
    "    print()"
   ]
  }
 ],
 "metadata": {
  "kernelspec": {
   "display_name": "Python 3",
   "language": "python",
   "name": "python3"
  },
  "language_info": {
   "codemirror_mode": {
    "name": "ipython",
    "version": 3
   },
   "file_extension": ".py",
   "mimetype": "text/x-python",
   "name": "python",
   "nbconvert_exporter": "python",
   "pygments_lexer": "ipython3",
   "version": "3.6.5"
  },
  "toc": {
   "base_numbering": 1,
   "nav_menu": {},
   "number_sections": true,
   "sideBar": true,
   "skip_h1_title": false,
   "title_cell": "Table of Contents",
   "title_sidebar": "Contents",
   "toc_cell": false,
   "toc_position": {},
   "toc_section_display": true,
   "toc_window_display": false
  },
  "varInspector": {
   "cols": {
    "lenName": 16,
    "lenType": 16,
    "lenVar": 40
   },
   "kernels_config": {
    "python": {
     "delete_cmd_postfix": "",
     "delete_cmd_prefix": "del ",
     "library": "var_list.py",
     "varRefreshCmd": "print(var_dic_list())"
    },
    "r": {
     "delete_cmd_postfix": ") ",
     "delete_cmd_prefix": "rm(",
     "library": "var_list.r",
     "varRefreshCmd": "cat(var_dic_list()) "
    }
   },
   "types_to_exclude": [
    "module",
    "function",
    "builtin_function_or_method",
    "instance",
    "_Feature"
   ],
   "window_display": false
  }
 },
 "nbformat": 4,
 "nbformat_minor": 2
}
