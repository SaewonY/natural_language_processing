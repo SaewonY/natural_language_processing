{
 "cells": [
  {
   "cell_type": "markdown",
   "metadata": {},
   "source": [
    "![image](https://user-images.githubusercontent.com/40786348/58559511-3c32a700-825e-11e9-9d04-a37c35f5f029.png)"
   ]
  },
  {
   "cell_type": "markdown",
   "metadata": {},
   "source": [
    "## preprocessing"
   ]
  },
  {
   "cell_type": "code",
   "execution_count": 1,
   "metadata": {},
   "outputs": [],
   "source": [
    "from os import listdir\n",
    "def fileids(path, ext='txt'):\n",
    "    return [path+file for file in listdir(path) if file.split('.')[-1] == ext]"
   ]
  },
  {
   "cell_type": "code",
   "execution_count": 2,
   "metadata": {},
   "outputs": [],
   "source": [
    "def ngram(term, n=2):\n",
    "    return [term[i:i+n] for i in range(len(term) - n + 1)]"
   ]
  },
  {
   "cell_type": "code",
   "execution_count": 3,
   "metadata": {},
   "outputs": [],
   "source": [
    "from nltk.tokenize import word_tokenize\n",
    "from nltk.tokenize import sent_tokenize\n",
    "from konlpy.tag import Komoran\n",
    "\n",
    "ma = Komoran()\n",
    "\n",
    "# preprocessing 리스트\n",
    "for file in fileids('./data/'):\n",
    "    with open(file, encoding='utf-8') as fp:\n",
    "        content = fp.read()\n",
    "    tokens1 = content.split() # 원시어절\n",
    "    tokens2 = word_tokenize(content) # 구두점 분리 => 원시어절\n",
    "    tokens3 = [_ for token in tokens2 for _ in ma.pos(token)] # 형태소-품사\n",
    "    tokens4 = [token[0] for token in tokens3] # 형태소\n",
    "    tokens5 = [token[0] for token in tokens3 if token[1].startswith('N')] # 명사\n",
    "    tokens6 = [_ for token in tokens4 for _ in ngram(token)] # ngram"
   ]
  },
  {
   "cell_type": "code",
   "execution_count": 4,
   "metadata": {},
   "outputs": [],
   "source": [
    "def filecontent(file):\n",
    "    with open(file, encoding='utf-8') as fp:\n",
    "        content = fp.read()\n",
    "    return content"
   ]
  },
  {
   "cell_type": "code",
   "execution_count": 5,
   "metadata": {},
   "outputs": [],
   "source": [
    "from string import punctuation\n",
    "import re\n",
    "\n",
    "pattern = dict()\n",
    "\n",
    "pattern1 = re.compile(r'[{0}]'.format(re.escape(punctuation))) # 구두점\n",
    "pattern['punc'] = pattern1\n",
    "\n",
    "pattern2 = re.compile(r'[A-Za-z0-9]{7,}') # 불용어\n",
    "pattern['stop'] = pattern2\n",
    "\n",
    "# pattern3 = re.compile(r'\\w{2,}@\\w{3,}(.\\w{2,})+')\n",
    "pattern3 = re.compile(r'\\w{2,}@(.?\\w{2,})+')# 이메일\n",
    "pattern['email'] = pattern3\n",
    "\n",
    "pattern4 = re.compile(r'(.?\\w{2,}){2,}') # 도메인\n",
    "pattern['url'] = pattern4\n",
    "\n",
    "pattern5 = re.compile(r'[^가-힣0-9]+') # 한글 이외\n",
    "pattern['nonkorean'] = pattern5\n",
    "\n",
    "pattern6 = re.compile(r\"\\s{2,}\") # WhiteSpace\n",
    "pattern['whitespace'] = pattern5"
   ]
  },
  {
   "cell_type": "code",
   "execution_count": 6,
   "metadata": {},
   "outputs": [
    {
     "ename": "NameError",
     "evalue": "name 'corpus' is not defined",
     "output_type": "error",
     "traceback": [
      "\u001b[1;31m---------------------------------------------------------------------------\u001b[0m",
      "\u001b[1;31mNameError\u001b[0m                                 Traceback (most recent call last)",
      "\u001b[1;32m<ipython-input-6-6848e9c050c1>\u001b[0m in \u001b[0;36m<module>\u001b[1;34m()\u001b[0m\n\u001b[1;32m----> 1\u001b[1;33m \u001b[0mcorpus\u001b[0m \u001b[1;33m=\u001b[0m \u001b[0mpattern1\u001b[0m\u001b[1;33m.\u001b[0m\u001b[0msub\u001b[0m\u001b[1;33m(\u001b[0m\u001b[1;34m' '\u001b[0m\u001b[1;33m,\u001b[0m\u001b[0mcorpus\u001b[0m\u001b[1;33m)\u001b[0m\u001b[1;33m\u001b[0m\u001b[0m\n\u001b[0m\u001b[0;32m      2\u001b[0m \u001b[0mcorpus\u001b[0m \u001b[1;33m=\u001b[0m \u001b[0mpattern2\u001b[0m\u001b[1;33m.\u001b[0m\u001b[0msub\u001b[0m\u001b[1;33m(\u001b[0m\u001b[1;34m' '\u001b[0m\u001b[1;33m,\u001b[0m\u001b[0mcorpus\u001b[0m\u001b[1;33m)\u001b[0m\u001b[1;33m\u001b[0m\u001b[0m\n\u001b[0;32m      3\u001b[0m \u001b[0mcorpus\u001b[0m \u001b[1;33m=\u001b[0m \u001b[0mpattern3\u001b[0m\u001b[1;33m.\u001b[0m\u001b[0msub\u001b[0m\u001b[1;33m(\u001b[0m\u001b[1;34m' '\u001b[0m\u001b[1;33m,\u001b[0m\u001b[0mcorpus\u001b[0m\u001b[1;33m)\u001b[0m\u001b[1;33m\u001b[0m\u001b[0m\n\u001b[0;32m      4\u001b[0m \u001b[0mcorpus\u001b[0m \u001b[1;33m=\u001b[0m \u001b[0mpattern4\u001b[0m\u001b[1;33m.\u001b[0m\u001b[0msub\u001b[0m\u001b[1;33m(\u001b[0m\u001b[1;34m' '\u001b[0m\u001b[1;33m,\u001b[0m\u001b[0mcorpus\u001b[0m\u001b[1;33m)\u001b[0m\u001b[1;33m\u001b[0m\u001b[0m\n\u001b[0;32m      5\u001b[0m \u001b[0mcorpus\u001b[0m \u001b[1;33m=\u001b[0m \u001b[0mpattern5\u001b[0m\u001b[1;33m.\u001b[0m\u001b[0msub\u001b[0m\u001b[1;33m(\u001b[0m\u001b[1;34m' '\u001b[0m\u001b[1;33m,\u001b[0m\u001b[0mcorpus\u001b[0m\u001b[1;33m)\u001b[0m\u001b[1;33m\u001b[0m\u001b[0m\n",
      "\u001b[1;31mNameError\u001b[0m: name 'corpus' is not defined"
     ]
    }
   ],
   "source": [
    "corpus = pattern1.sub(' ',corpus)\n",
    "corpus = pattern2.sub(' ',corpus)\n",
    "corpus = pattern3.sub(' ',corpus)\n",
    "corpus = pattern4.sub(' ',corpus)\n",
    "corpus = pattern5.sub(' ',corpus)\n",
    "corpus = pattern6.sub(' ',corpus)"
   ]
  },
  {
   "cell_type": "markdown",
   "metadata": {},
   "source": [
    "## Collection 생성"
   ]
  },
  {
   "cell_type": "code",
   "execution_count": null,
   "metadata": {},
   "outputs": [],
   "source": [
    "# 경로에 들어있는 총 기사갯수\n",
    "len(fileids('./data/'))"
   ]
  },
  {
   "cell_type": "code",
   "execution_count": null,
   "metadata": {},
   "outputs": [],
   "source": [
    "from collections import defaultdict\n",
    "\n",
    "# collection 생성\n",
    "collection = defaultdict()\n",
    "for _ in range(len(fileids('./data/'))):\n",
    "    doc_id = fileids('./data/')[_].split('/')[-1]\n",
    "    doc_content = filecontent(fileids('./data/')[_])\n",
    "    \n",
    "    for _ in ['punc', 'stop', 'email']:\n",
    "        doc_content = pattern[_].sub(' ',doc_content)\n",
    "    \n",
    "    tokens = doc_content.split() # 원시어절\n",
    "    tokens = [_ for token in tokens for _ in ngram(token)]\n",
    "    \n",
    "    collection[doc_id] = tokens"
   ]
  },
  {
   "cell_type": "markdown",
   "metadata": {},
   "source": [
    "## DTM, TDM 생성"
   ]
  },
  {
   "cell_type": "code",
   "execution_count": null,
   "metadata": {},
   "outputs": [],
   "source": [
    "from math import log2\n",
    "from math import sqrt\n",
    "from konlpy.corpus import kobill\n",
    "from konlpy.tag import Komoran\n",
    "\n",
    "# DTM: keys=문서명, values=단어와 그에 따른 빈도\n",
    "DTM = defaultdict(lambda:defaultdict(int))\n",
    "for docName, docContent in collection.items():\n",
    "#     for term in docContent.split():\n",
    "    for term in docContent:    \n",
    "        DTM[docName][term] += 1\n",
    "        \n",
    "TDM = defaultdict(lambda:defaultdict(int))\n",
    "for idx, termList in DTM.items():\n",
    "    for term, freq in termList.items():\n",
    "        TDM[term][idx] = freq\n",
    "        \n",
    "TWM = defaultdict(lambda:defaultdict(float))\n",
    "DVL = defaultdict(float)\n",
    "\n",
    "N = len(DTM)\n",
    "for idx, termList in DTM.items():\n",
    "    maxTF = max(termList.values())\n",
    "    for term, freq in termList.items():\n",
    "        TF = freq/maxTF\n",
    "        IDF = log2(N/len(TDM[term]))\n",
    "        TWM[term][idx] = TF*IDF\n",
    "        DVL[idx] += TWM[term][idx]**2\n",
    "        \n",
    "for idx, length in DVL.items():\n",
    "    DVL[idx] = sqrt(length)  "
   ]
  },
  {
   "cell_type": "markdown",
   "metadata": {},
   "source": [
    "## query "
   ]
  },
  {
   "cell_type": "code",
   "execution_count": null,
   "metadata": {},
   "outputs": [],
   "source": [
    "query = '서울시에 거래되는 아파트 전세값은?.'\n",
    "\n",
    "TQM = defaultdict(int)\n",
    "QWM = defaultdict(float)\n",
    "\n",
    "# bigram으로만 전처리 (doc, query 둘다 같은 preprocessing 적용해야 한다)\n",
    "for term in query.split():\n",
    "    for token in ngram(term):\n",
    "        TQM[token] += 1\n",
    "        \n",
    "#     for token in word_tokenize(term):\n",
    "#         TQM[token] += 1\n",
    "#     TQM = word_tokenize(term)\n",
    "   \n",
    "alpha = 0.5\n",
    "maxTF = max(TQM.values())\n",
    "for term, ferq in TQM.items():\n",
    "    TF = alpha + (1-alpha)*(freq/maxTF)\n",
    "    DF = len(TWM[term]) if len(TWM[term]) > 0 else 1\n",
    "#     DF = len(TWM[term])\n",
    "    IDF = log2(N/DF)\n",
    "    QWM[term] = TF*IDF"
   ]
  },
  {
   "cell_type": "code",
   "execution_count": null,
   "metadata": {},
   "outputs": [],
   "source": [
    "# document에서 후보자 sort해서 검색 결과 반환\n",
    "candidateList = defaultdict(float)\n",
    "for term, weight1 in QWM.items():\n",
    "    for doc, weight2 in TWM[term].items():\n",
    "        innerProduct = weight1 * weight2\n",
    "        candidateList[doc] += innerProduct\n",
    "        \n",
    "for doc, sim in candidateList.items():\n",
    "    candidateList[doc] = sim/DVL[doc]\n",
    "    \n",
    "# Cj/k = P(j)\n",
    "# probability \n",
    "\n",
    "# news_class = ['경제', '과학', '국제', '문화', '사회', '세계', '정치']\n",
    "\n",
    "a = {\n",
    "    \"경제\":0,\n",
    "    \"과학\":0,\n",
    "    \"국제\":0,\n",
    "    \"문화\":0,\n",
    "    \"사회\":0,\n",
    "    \"세계\":0,\n",
    "    \"정치\":0    \n",
    "}    \n",
    "    \n",
    "K = 5\n",
    "for doc, sim in sorted(candidateList.items(), key=lambda x:x[1], reverse=True)[:K]:\n",
    "    print('문서이름:{0} / 유사도:{1:.4f}'.format(doc, sim))\n",
    "    print(sent_tokenize(open('./data/' + doc, encoding='utf-8').read()[:40]))\n",
    "    print()\n",
    "    \n",
    "    if doc[:2] == '경제':\n",
    "        a[\"경제\"] += 1\n",
    "    elif doc[:2] == '과학':\n",
    "        a[\"과학\"] += 1\n",
    "    elif doc[:2] == '국제':\n",
    "        a[\"국제\"] += 1\n",
    "    elif doc[:2] == '문화':\n",
    "        a[\"문화\"] += 1\n",
    "    elif doc[:2] == '사회':\n",
    "        a[\"사회\"] += 1\n",
    "    elif doc[:2] == '세계':\n",
    "        a[\"세계\"] += 1\n",
    "    elif doc[:2] == '정치':\n",
    "        a[\"정치\"] += 1\n",
    "        \n",
    "print(\"해당 쿼리가 {0} class에 속할 확률: {1:.2f}\".format(max(a.items(), key=operator.itemgetter(1))[0], \\\n",
    "                                            max(a.items(), key=operator.itemgetter(1))[1] / sum(a.values())))"
   ]
  },
  {
   "cell_type": "code",
   "execution_count": 304,
   "metadata": {},
   "outputs": [],
   "source": [
    "candidateList = defaultdict(float)\n",
    "for term, docList in TWM.items():\n",
    "    for doc, weight1 in docList.items():\n",
    "        weight2 = QWM[term]\n",
    "        candidateList[doc] += (weight1 - weight2)**2 \n",
    "        \n",
    "for doc, sim in candidateList.items():\n",
    "    candidateList[doc] = sqrt(sim)\n",
    "\n",
    "for doc in DTM:\n",
    "    print(doc, len(open('./data/' + doc, encoding='utf-8').read().split()), len(DTM[doc]), sum(DTM[doc].values()))\n",
    "candidateList"
   ]
  },
  {
   "cell_type": "code",
   "execution_count": 303,
   "metadata": {},
   "outputs": [],
   "source": [
    "\n",
    "K = 5\n",
    "for doc, sim in sorted(candidateList.items(), key=lambda x:x[1])[:K]:\n",
    "    print('문서이름:{0} / 거리:{1:.4f}'.format(doc, sim))\n",
    "    print(sent_tokenize(open('./data/' + doc, encoding='utf-8').read())[:3])\n",
    "    print()"
   ]
  }
 ],
 "metadata": {
  "kernelspec": {
   "display_name": "Python 3",
   "language": "python",
   "name": "python3"
  },
  "language_info": {
   "codemirror_mode": {
    "name": "ipython",
    "version": 3
   },
   "file_extension": ".py",
   "mimetype": "text/x-python",
   "name": "python",
   "nbconvert_exporter": "python",
   "pygments_lexer": "ipython3",
   "version": "3.6.5"
  },
  "toc": {
   "base_numbering": 1,
   "nav_menu": {},
   "number_sections": true,
   "sideBar": true,
   "skip_h1_title": false,
   "title_cell": "Table of Contents",
   "title_sidebar": "Contents",
   "toc_cell": false,
   "toc_position": {},
   "toc_section_display": true,
   "toc_window_display": false
  },
  "varInspector": {
   "cols": {
    "lenName": 16,
    "lenType": 16,
    "lenVar": 40
   },
   "kernels_config": {
    "python": {
     "delete_cmd_postfix": "",
     "delete_cmd_prefix": "del ",
     "library": "var_list.py",
     "varRefreshCmd": "print(var_dic_list())"
    },
    "r": {
     "delete_cmd_postfix": ") ",
     "delete_cmd_prefix": "rm(",
     "library": "var_list.r",
     "varRefreshCmd": "cat(var_dic_list()) "
    }
   },
   "types_to_exclude": [
    "module",
    "function",
    "builtin_function_or_method",
    "instance",
    "_Feature"
   ],
   "window_display": false
  }
 },
 "nbformat": 4,
 "nbformat_minor": 2
}
